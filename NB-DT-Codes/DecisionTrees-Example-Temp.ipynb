{
 "cells": [
  {
   "cell_type": "markdown",
   "metadata": {},
   "source": [
    "# Decision Tree Classifier"
   ]
  },
  {
   "cell_type": "code",
   "execution_count": null,
   "metadata": {},
   "outputs": [],
   "source": [
    "# Need to install\n",
    "#pip install graphviz\n",
    "#pip install pydotplus\n",
    "#pip install decision-tree-id3"
   ]
  },
  {
   "cell_type": "code",
   "execution_count": null,
   "metadata": {},
   "outputs": [],
   "source": [
    "# Import libraries\n",
    "import pandas as pd\n",
    "import matplotlib.pyplot as plt\n",
    "import seaborn as sns\n",
    "\n",
    "# import other dependencies\n",
    "import six\n",
    "from sklearn import tree #For our Decision Tree\n",
    "import pydotplus # To create our Decision Tree Graph\n",
    "from sklearn.tree import export_text # To visualize the Tree in a text organized way\n",
    "from IPython.display import Image  # To Display an image of our graph\n",
    "import graphviz #To display an imahe of the tree\n"
   ]
  },
  {
   "cell_type": "code",
   "execution_count": null,
   "metadata": {},
   "outputs": [],
   "source": [
    "# Read dataset\n",
    "\n",
    "\n",
    "#golf.Outlook.unique()"
   ]
  },
  {
   "cell_type": "code",
   "execution_count": null,
   "metadata": {
    "scrolled": true
   },
   "outputs": [],
   "source": [
    "# Convert categorical variable into dummy/indicator variables or (binary vairbles) essentialy 1's and 0's\n",
    "golf[],_ = pd(golf[])\n",
    "golf[],_ = pd(golf[])\n",
    "golf[],_ = pd(golf[])\n",
    "golf[],_ = pd(golf[])\n",
    "\n",
    "#print the new categorical data\n",
    "cat_data = golf.loc[:,(,,,)]\n"
   ]
  },
  {
   "cell_type": "code",
   "execution_count": null,
   "metadata": {
    "scrolled": false
   },
   "outputs": [],
   "source": [
    "# The decision tree classifier.\n",
    "clf = DecisionTreeClassifier(criterion=)\n",
    "\n",
    "#clf = tree.DecisionTreeClassifier(criterion='gini', max_depth=3)\n",
    "#clf = tree.DecisionTreeClassifier(max_depth=3)\n",
    "\n",
    "# Training the Decision Tree - Can split the data here for training\n",
    "#config = {'algorithm': 'ID3'}\n",
    "clf_train = clf.(, )\n",
    "\n",
    "# Model Accuracy, how often is the classifier correct?\n",
    "#print(\"Accuracy:\",metrics.accuracy_score(y_test, y_pred))\n",
    "\n",
    "# Export/Print a decision tree in DOT format.\n",
    "print(export_graphviz(, None))\n",
    "\n"
   ]
  },
  {
   "cell_type": "code",
   "execution_count": null,
   "metadata": {},
   "outputs": [],
   "source": [
    "# Another tree visualization\n",
    "r = export_text(, feature_names=list())\n",
    "print()"
   ]
  },
  {
   "cell_type": "code",
   "execution_count": null,
   "metadata": {},
   "outputs": [],
   "source": [
    "# Another tree visualization\n",
    "plot_tree() \n",
    "plt.show()"
   ]
  },
  {
   "cell_type": "code",
   "execution_count": null,
   "metadata": {
    "scrolled": true
   },
   "outputs": [],
   "source": [
    "# Another tree visualization\n",
    "\n",
    "#Create Dot Data\n",
    "dot_data = tree(, out_file=None, feature_names=list(), \n",
    "                                class_names=, rounded=True, filled=True)\n",
    "\n",
    "\n",
    "#Create Graph from DOT data\n",
    "graph = graph_from_dot_data(dot_data)\n",
    "\n",
    "# Show graph\n",
    "Image()\n"
   ]
  },
  {
   "cell_type": "code",
   "execution_count": null,
   "metadata": {},
   "outputs": [],
   "source": [
    "# Making a Prediction On a New Sample\n",
    "#sample_one_pred = clf.predict([[0, 1, 1, 0]])\n",
    "sample_one_pred = clf([[2, 0, 0, 1]])\n",
    "print(sample_one_pred)"
   ]
  }
 ],
 "metadata": {
  "kernelspec": {
   "display_name": "Python 3",
   "language": "python",
   "name": "python3"
  },
  "language_info": {
   "codemirror_mode": {
    "name": "ipython",
    "version": 3
   },
   "file_extension": ".py",
   "mimetype": "text/x-python",
   "name": "python",
   "nbconvert_exporter": "python",
   "pygments_lexer": "ipython3",
   "version": "3.8.3"
  },
  "toc": {
   "base_numbering": 1,
   "nav_menu": {},
   "number_sections": true,
   "sideBar": true,
   "skip_h1_title": false,
   "title_cell": "Table of Contents",
   "title_sidebar": "Contents",
   "toc_cell": false,
   "toc_position": {},
   "toc_section_display": true,
   "toc_window_display": false
  },
  "varInspector": {
   "cols": {
    "lenName": 16,
    "lenType": 16,
    "lenVar": 40
   },
   "kernels_config": {
    "python": {
     "delete_cmd_postfix": "",
     "delete_cmd_prefix": "del ",
     "library": "var_list.py",
     "varRefreshCmd": "print(var_dic_list())"
    },
    "r": {
     "delete_cmd_postfix": ") ",
     "delete_cmd_prefix": "rm(",
     "library": "var_list.r",
     "varRefreshCmd": "cat(var_dic_list()) "
    }
   },
   "types_to_exclude": [
    "module",
    "function",
    "builtin_function_or_method",
    "instance",
    "_Feature"
   ],
   "window_display": false
  }
 },
 "nbformat": 4,
 "nbformat_minor": 4
}
