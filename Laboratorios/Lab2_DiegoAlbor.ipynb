{
 "cells": [
  {
   "cell_type": "markdown",
   "metadata": {},
   "source": [
    "# Bases de datos utilizadas"
   ]
  },
  {
   "cell_type": "markdown",
   "metadata": {},
   "source": [
    "<ul>\n",
    "    <li>\n",
    "       <a href=https://www.dane.gov.co/index.php/estadisticas-por-tema/comercio-internacional/exportaciones/exportaciones-historicos> Historicos de exportaciones </a>\n",
    "    </li>\n",
    "    <li>\n",
    "        <a href=https://www.dnp.gov.co/programas/desarrollo-empresarial/comercio-exterior-e-inversion-extranjera/Paginas/estadisticas.aspx> Exportaciones vista general </a>\n",
    "    </li>\n",
    "    <li>\n",
    "        <a> https://www.mincit.gov.co/estudios-economicos/estadisticas-e-informes </a>\n",
    "    </li>\n",
    "    <li>\n",
    "        <a> https://www.vuce.gov.co/servicio-al-ciudadano/estadisticas-registradas-bacex </a>\n",
    "    </li>\n",
    "    <li>\n",
    "        <a> https://bi.vuce.gov.co/analytics/saw.dll?dashboard </a>\n",
    "    </li>\n",
    "</ul>\n",
    "\n"
   ]
  },
  {
   "cell_type": "markdown",
   "metadata": {},
   "source": [
    "## Importaciones de librerías "
   ]
  },
  {
   "cell_type": "code",
   "execution_count": 24,
   "metadata": {},
   "outputs": [],
   "source": [
    "%config IPCompleter.greedy=True\n",
    "import numpy as np\n",
    "import pandas as pd\n",
    "import matplotlib.pyplot as plt\n",
    "import seaborn as sns\n",
    "import os"
   ]
  },
  {
   "cell_type": "code",
   "execution_count": 32,
   "metadata": {},
   "outputs": [],
   "source": [
    "mainpath = \"./datasets\"\n",
    "filename= \"expo_productos.csv\"\n",
    "fullpath = os.path.join(mainpath, filename)"
   ]
  },
  {
   "cell_type": "code",
   "execution_count": 35,
   "metadata": {},
   "outputs": [],
   "source": [
    "data = pd.read_csv(fullpath,sep=\";\")"
   ]
  },
  {
   "cell_type": "code",
   "execution_count": 36,
   "metadata": {},
   "outputs": [
    {
     "data": {
      "text/plain": [
       "array(['Mes', 'Total', 'Agropecuarios, alimentos y bebidas',\n",
       "       'Combustibles y Prod de industrias extractivas ', 'Manufacturas',\n",
       "       'Otros sectores '], dtype=object)"
      ]
     },
     "execution_count": 36,
     "metadata": {},
     "output_type": "execute_result"
    }
   ],
   "source": [
    "#Visualizo las columnas del dataset\n",
    "data.columns.values"
   ]
  },
  {
   "cell_type": "code",
   "execution_count": 37,
   "metadata": {},
   "outputs": [
    {
     "data": {
      "text/html": [
       "<div>\n",
       "<style scoped>\n",
       "    .dataframe tbody tr th:only-of-type {\n",
       "        vertical-align: middle;\n",
       "    }\n",
       "\n",
       "    .dataframe tbody tr th {\n",
       "        vertical-align: top;\n",
       "    }\n",
       "\n",
       "    .dataframe thead th {\n",
       "        text-align: right;\n",
       "    }\n",
       "</style>\n",
       "<table border=\"1\" class=\"dataframe\">\n",
       "  <thead>\n",
       "    <tr style=\"text-align: right;\">\n",
       "      <th></th>\n",
       "      <th>Mes</th>\n",
       "      <th>Total</th>\n",
       "      <th>Agropecuarios, alimentos y bebidas</th>\n",
       "      <th>Combustibles y Prod de industrias extractivas</th>\n",
       "      <th>Manufacturas</th>\n",
       "      <th>Otros sectores</th>\n",
       "    </tr>\n",
       "  </thead>\n",
       "  <tbody>\n",
       "    <tr>\n",
       "      <th>0</th>\n",
       "      <td>ene-95</td>\n",
       "      <td>689.342</td>\n",
       "      <td>285.630</td>\n",
       "      <td>163.985</td>\n",
       "      <td>227.023</td>\n",
       "      <td>12.702</td>\n",
       "    </tr>\n",
       "    <tr>\n",
       "      <th>1</th>\n",
       "      <td>feb-95</td>\n",
       "      <td>761.988</td>\n",
       "      <td>286.773</td>\n",
       "      <td>168.298</td>\n",
       "      <td>295.860</td>\n",
       "      <td>11.057</td>\n",
       "    </tr>\n",
       "    <tr>\n",
       "      <th>2</th>\n",
       "      <td>mar-95</td>\n",
       "      <td>912.372</td>\n",
       "      <td>346.754</td>\n",
       "      <td>213.452</td>\n",
       "      <td>335.566</td>\n",
       "      <td>16.600</td>\n",
       "    </tr>\n",
       "    <tr>\n",
       "      <th>3</th>\n",
       "      <td>abr-95</td>\n",
       "      <td>780.218</td>\n",
       "      <td>291.450</td>\n",
       "      <td>214.234</td>\n",
       "      <td>262.060</td>\n",
       "      <td>12.474</td>\n",
       "    </tr>\n",
       "    <tr>\n",
       "      <th>4</th>\n",
       "      <td>may-95</td>\n",
       "      <td>922.133</td>\n",
       "      <td>344.333</td>\n",
       "      <td>252.655</td>\n",
       "      <td>312.023</td>\n",
       "      <td>13.123</td>\n",
       "    </tr>\n",
       "    <tr>\n",
       "      <th>...</th>\n",
       "      <td>...</td>\n",
       "      <td>...</td>\n",
       "      <td>...</td>\n",
       "      <td>...</td>\n",
       "      <td>...</td>\n",
       "      <td>...</td>\n",
       "    </tr>\n",
       "    <tr>\n",
       "      <th>301</th>\n",
       "      <td>feb-20</td>\n",
       "      <td>2.943.093</td>\n",
       "      <td>681.998</td>\n",
       "      <td>1.509.119</td>\n",
       "      <td>571.646</td>\n",
       "      <td>180.330</td>\n",
       "    </tr>\n",
       "    <tr>\n",
       "      <th>302</th>\n",
       "      <td>mar-20</td>\n",
       "      <td>2.439.036</td>\n",
       "      <td>640.248</td>\n",
       "      <td>978.526</td>\n",
       "      <td>625.305</td>\n",
       "      <td>194.956</td>\n",
       "    </tr>\n",
       "    <tr>\n",
       "      <th>303</th>\n",
       "      <td>abr-20</td>\n",
       "      <td>1.864.239</td>\n",
       "      <td>569.284</td>\n",
       "      <td>721.508</td>\n",
       "      <td>443.733</td>\n",
       "      <td>129.714</td>\n",
       "    </tr>\n",
       "    <tr>\n",
       "      <th>304</th>\n",
       "      <td>may-20</td>\n",
       "      <td>2.221.544</td>\n",
       "      <td>614.096</td>\n",
       "      <td>953.877</td>\n",
       "      <td>429.897</td>\n",
       "      <td>223.674</td>\n",
       "    </tr>\n",
       "    <tr>\n",
       "      <th>305</th>\n",
       "      <td>jun-20</td>\n",
       "      <td>2.278.120</td>\n",
       "      <td>615.027</td>\n",
       "      <td>929.123</td>\n",
       "      <td>488.127</td>\n",
       "      <td>245.843</td>\n",
       "    </tr>\n",
       "  </tbody>\n",
       "</table>\n",
       "<p>306 rows × 6 columns</p>\n",
       "</div>"
      ],
      "text/plain": [
       "        Mes      Total  Agropecuarios, alimentos y bebidas  \\\n",
       "0    ene-95    689.342                             285.630   \n",
       "1    feb-95    761.988                             286.773   \n",
       "2    mar-95    912.372                             346.754   \n",
       "3    abr-95    780.218                             291.450   \n",
       "4    may-95    922.133                             344.333   \n",
       "..      ...        ...                                 ...   \n",
       "301  feb-20  2.943.093                             681.998   \n",
       "302  mar-20  2.439.036                             640.248   \n",
       "303  abr-20  1.864.239                             569.284   \n",
       "304  may-20  2.221.544                             614.096   \n",
       "305  jun-20  2.278.120                             615.027   \n",
       "\n",
       "    Combustibles y Prod de industrias extractivas  Manufacturas  \\\n",
       "0                                          163.985      227.023   \n",
       "1                                          168.298      295.860   \n",
       "2                                          213.452      335.566   \n",
       "3                                          214.234      262.060   \n",
       "4                                          252.655      312.023   \n",
       "..                                             ...          ...   \n",
       "301                                      1.509.119      571.646   \n",
       "302                                        978.526      625.305   \n",
       "303                                        721.508      443.733   \n",
       "304                                        953.877      429.897   \n",
       "305                                        929.123      488.127   \n",
       "\n",
       "    Otros sectores   \n",
       "0            12.702  \n",
       "1            11.057  \n",
       "2            16.600  \n",
       "3            12.474  \n",
       "4            13.123  \n",
       "..              ...  \n",
       "301         180.330  \n",
       "302         194.956  \n",
       "303         129.714  \n",
       "304         223.674  \n",
       "305         245.843  \n",
       "\n",
       "[306 rows x 6 columns]"
      ]
     },
     "execution_count": 37,
     "metadata": {},
     "output_type": "execute_result"
    }
   ],
   "source": []
  },
  {
   "cell_type": "code",
   "execution_count": null,
   "metadata": {},
   "outputs": [],
   "source": []
  }
 ],
 "metadata": {
  "kernelspec": {
   "display_name": "Python 3",
   "language": "python",
   "name": "python3"
  },
  "language_info": {
   "codemirror_mode": {
    "name": "ipython",
    "version": 3
   },
   "file_extension": ".py",
   "mimetype": "text/x-python",
   "name": "python",
   "nbconvert_exporter": "python",
   "pygments_lexer": "ipython3",
   "version": "3.8.3"
  }
 },
 "nbformat": 4,
 "nbformat_minor": 4
}
