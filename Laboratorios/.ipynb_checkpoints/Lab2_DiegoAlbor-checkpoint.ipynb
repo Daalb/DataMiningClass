{
 "cells": [
  {
   "cell_type": "markdown",
   "metadata": {},
   "source": [
    "# Bases de datos utilizadas"
   ]
  },
  {
   "cell_type": "markdown",
   "metadata": {},
   "source": [
    "<ul>\n",
    "    <li>\n",
    "       <a href=https://www.dane.gov.co/index.php/estadisticas-por-tema/comercio-internacional/exportaciones/exportaciones-historicos>Colombia, exportaciones totales según grupos de productos OMC a partir de la agregación CUCI Rev.3. 2010-2020p (junio) </a>\n",
    "    </li>\n",
    "    <li>\n",
    "        <a href= href=https://www.dane.gov.co/index.php/estadisticas-por-tema/comercio-                        internacional/exportaciones/exportaciones-historicos> Colombia, principales destinos de las exportaciones. 2008p - 2020p (junio)</a>\n",
    "    </li>\n",
    "</ul>\n",
    "\n"
   ]
  },
  {
   "cell_type": "markdown",
   "metadata": {},
   "source": [
    "## Importaciones de librerías "
   ]
  },
  {
   "cell_type": "code",
   "execution_count": 327,
   "metadata": {},
   "outputs": [],
   "source": [
    "%config IPCompleter.greedy=True\n",
    "import numpy as np\n",
    "import pandas as pd\n",
    "import matplotlib.pyplot as plt\n",
    "import seaborn as sns\n",
    "import os"
   ]
  },
  {
   "cell_type": "markdown",
   "metadata": {},
   "source": [
    "## Carga de documentos"
   ]
  },
  {
   "cell_type": "code",
   "execution_count": 355,
   "metadata": {},
   "outputs": [],
   "source": [
    "#Cargar datos sobre los productos\n",
    "mainpath = \"./datasets\"\n",
    "filename1 = \"expo_productos.csv\"\n",
    "fullpath1 = os.path.join(mainpath, filename1)\n",
    "#Cargar datos sobre los paises\n",
    "filename2 = \"expo_paises.csv\"\n",
    "fullpath2 = os.path.join(mainpath, filename2)"
   ]
  },
  {
   "cell_type": "code",
   "execution_count": 356,
   "metadata": {},
   "outputs": [],
   "source": [
    "data1 = pd.read_csv(fullpath1,sep=\";\")\n",
    "data2 = pd.read_csv(fullpath2,sep=\";\")"
   ]
  },
  {
   "cell_type": "code",
   "execution_count": 357,
   "metadata": {},
   "outputs": [
    {
     "data": {
      "text/plain": [
       "array(['Year', 'Agropecuarios, alimentos y bebidas',\n",
       "       'Combustibles y Prod de industrias extractivas', 'Manufacturas',\n",
       "       'Otros sectores', 'Unnamed: 5'], dtype=object)"
      ]
     },
     "execution_count": 357,
     "metadata": {},
     "output_type": "execute_result"
    }
   ],
   "source": [
    "#Visualizo las columnas del dataset\n",
    "data1.columns.values"
   ]
  },
  {
   "cell_type": "markdown",
   "metadata": {},
   "source": [
    "<h2>En este data set se presenta las ventas en miles de dolares de cada una de los grupos de los productos desde el año 2016-2019</h2>"
   ]
  },
  {
   "cell_type": "code",
   "execution_count": 358,
   "metadata": {
    "scrolled": true
   },
   "outputs": [
    {
     "data": {
      "text/html": [
       "<div>\n",
       "<style scoped>\n",
       "    .dataframe tbody tr th:only-of-type {\n",
       "        vertical-align: middle;\n",
       "    }\n",
       "\n",
       "    .dataframe tbody tr th {\n",
       "        vertical-align: top;\n",
       "    }\n",
       "\n",
       "    .dataframe thead th {\n",
       "        text-align: right;\n",
       "    }\n",
       "</style>\n",
       "<table border=\"1\" class=\"dataframe\">\n",
       "  <thead>\n",
       "    <tr style=\"text-align: right;\">\n",
       "      <th></th>\n",
       "      <th>Year</th>\n",
       "      <th>Agropecuarios, alimentos y bebidas</th>\n",
       "      <th>Combustibles y Prod de industrias extractivas</th>\n",
       "      <th>Manufacturas</th>\n",
       "      <th>Otros sectores</th>\n",
       "      <th>Unnamed: 5</th>\n",
       "    </tr>\n",
       "  </thead>\n",
       "  <tbody>\n",
       "    <tr>\n",
       "      <th>0</th>\n",
       "      <td>2016</td>\n",
       "      <td>6864748.0</td>\n",
       "      <td>15801567.0</td>\n",
       "      <td>7526108.0</td>\n",
       "      <td>1575917.0</td>\n",
       "      <td>NaN</td>\n",
       "    </tr>\n",
       "    <tr>\n",
       "      <th>1</th>\n",
       "      <td>2017</td>\n",
       "      <td>7355648.0</td>\n",
       "      <td>21171675.0</td>\n",
       "      <td>7709991.0</td>\n",
       "      <td>1784545.0</td>\n",
       "      <td>NaN</td>\n",
       "    </tr>\n",
       "    <tr>\n",
       "      <th>2</th>\n",
       "      <td>2018</td>\n",
       "      <td>7301253.0</td>\n",
       "      <td>24783269.0</td>\n",
       "      <td>8324362.0</td>\n",
       "      <td>1495893.0</td>\n",
       "      <td>NaN</td>\n",
       "    </tr>\n",
       "    <tr>\n",
       "      <th>3</th>\n",
       "      <td>2019</td>\n",
       "      <td>7362741.0</td>\n",
       "      <td>22011293.0</td>\n",
       "      <td>8290324.0</td>\n",
       "      <td>1824807.0</td>\n",
       "      <td>NaN</td>\n",
       "    </tr>\n",
       "    <tr>\n",
       "      <th>4</th>\n",
       "      <td>NaN</td>\n",
       "      <td>NaN</td>\n",
       "      <td>NaN</td>\n",
       "      <td>NaN</td>\n",
       "      <td>NaN</td>\n",
       "      <td>NaN</td>\n",
       "    </tr>\n",
       "    <tr>\n",
       "      <th>...</th>\n",
       "      <td>...</td>\n",
       "      <td>...</td>\n",
       "      <td>...</td>\n",
       "      <td>...</td>\n",
       "      <td>...</td>\n",
       "      <td>...</td>\n",
       "    </tr>\n",
       "    <tr>\n",
       "      <th>301</th>\n",
       "      <td>feb-20</td>\n",
       "      <td>NaN</td>\n",
       "      <td>681998.0</td>\n",
       "      <td>1509119.0</td>\n",
       "      <td>571646.0</td>\n",
       "      <td>180330.0</td>\n",
       "    </tr>\n",
       "    <tr>\n",
       "      <th>302</th>\n",
       "      <td>mar-20</td>\n",
       "      <td>NaN</td>\n",
       "      <td>640248.0</td>\n",
       "      <td>978526.0</td>\n",
       "      <td>625305.0</td>\n",
       "      <td>194956.0</td>\n",
       "    </tr>\n",
       "    <tr>\n",
       "      <th>303</th>\n",
       "      <td>abr-20</td>\n",
       "      <td>NaN</td>\n",
       "      <td>569284.0</td>\n",
       "      <td>721508.0</td>\n",
       "      <td>443733.0</td>\n",
       "      <td>129714.0</td>\n",
       "    </tr>\n",
       "    <tr>\n",
       "      <th>304</th>\n",
       "      <td>may-20</td>\n",
       "      <td>NaN</td>\n",
       "      <td>614096.0</td>\n",
       "      <td>953877.0</td>\n",
       "      <td>429897.0</td>\n",
       "      <td>223674.0</td>\n",
       "    </tr>\n",
       "    <tr>\n",
       "      <th>305</th>\n",
       "      <td>jun-20</td>\n",
       "      <td>NaN</td>\n",
       "      <td>615027.0</td>\n",
       "      <td>929123.0</td>\n",
       "      <td>488127.0</td>\n",
       "      <td>245843.0</td>\n",
       "    </tr>\n",
       "  </tbody>\n",
       "</table>\n",
       "<p>306 rows × 6 columns</p>\n",
       "</div>"
      ],
      "text/plain": [
       "       Year  Agropecuarios, alimentos y bebidas  \\\n",
       "0      2016                           6864748.0   \n",
       "1      2017                           7355648.0   \n",
       "2      2018                           7301253.0   \n",
       "3      2019                           7362741.0   \n",
       "4       NaN                                 NaN   \n",
       "..      ...                                 ...   \n",
       "301  feb-20                                 NaN   \n",
       "302  mar-20                                 NaN   \n",
       "303  abr-20                                 NaN   \n",
       "304  may-20                                 NaN   \n",
       "305  jun-20                                 NaN   \n",
       "\n",
       "     Combustibles y Prod de industrias extractivas  Manufacturas  \\\n",
       "0                                       15801567.0     7526108.0   \n",
       "1                                       21171675.0     7709991.0   \n",
       "2                                       24783269.0     8324362.0   \n",
       "3                                       22011293.0     8290324.0   \n",
       "4                                              NaN           NaN   \n",
       "..                                             ...           ...   \n",
       "301                                       681998.0     1509119.0   \n",
       "302                                       640248.0      978526.0   \n",
       "303                                       569284.0      721508.0   \n",
       "304                                       614096.0      953877.0   \n",
       "305                                       615027.0      929123.0   \n",
       "\n",
       "     Otros sectores  Unnamed: 5  \n",
       "0         1575917.0         NaN  \n",
       "1         1784545.0         NaN  \n",
       "2         1495893.0         NaN  \n",
       "3         1824807.0         NaN  \n",
       "4               NaN         NaN  \n",
       "..              ...         ...  \n",
       "301        571646.0    180330.0  \n",
       "302        625305.0    194956.0  \n",
       "303        443733.0    129714.0  \n",
       "304        429897.0    223674.0  \n",
       "305        488127.0    245843.0  \n",
       "\n",
       "[306 rows x 6 columns]"
      ]
     },
     "execution_count": 358,
     "metadata": {},
     "output_type": "execute_result"
    }
   ],
   "source": [
    "data1"
   ]
  },
  {
   "cell_type": "code",
   "execution_count": 359,
   "metadata": {},
   "outputs": [
    {
     "data": {
      "text/html": [
       "<div>\n",
       "<style scoped>\n",
       "    .dataframe tbody tr th:only-of-type {\n",
       "        vertical-align: middle;\n",
       "    }\n",
       "\n",
       "    .dataframe tbody tr th {\n",
       "        vertical-align: top;\n",
       "    }\n",
       "\n",
       "    .dataframe thead th {\n",
       "        text-align: right;\n",
       "    }\n",
       "</style>\n",
       "<table border=\"1\" class=\"dataframe\">\n",
       "  <thead>\n",
       "    <tr style=\"text-align: right;\">\n",
       "      <th></th>\n",
       "      <th>Year</th>\n",
       "      <th>Agropecuarios, alimentos y bebidas</th>\n",
       "      <th>Combustibles y Prod de industrias extractivas</th>\n",
       "      <th>Manufacturas</th>\n",
       "      <th>Otros sectores</th>\n",
       "    </tr>\n",
       "  </thead>\n",
       "  <tbody>\n",
       "    <tr>\n",
       "      <th>0</th>\n",
       "      <td>2016</td>\n",
       "      <td>6864748.0</td>\n",
       "      <td>15801567.0</td>\n",
       "      <td>7526108.0</td>\n",
       "      <td>1575917.0</td>\n",
       "    </tr>\n",
       "    <tr>\n",
       "      <th>1</th>\n",
       "      <td>2017</td>\n",
       "      <td>7355648.0</td>\n",
       "      <td>21171675.0</td>\n",
       "      <td>7709991.0</td>\n",
       "      <td>1784545.0</td>\n",
       "    </tr>\n",
       "    <tr>\n",
       "      <th>2</th>\n",
       "      <td>2018</td>\n",
       "      <td>7301253.0</td>\n",
       "      <td>24783269.0</td>\n",
       "      <td>8324362.0</td>\n",
       "      <td>1495893.0</td>\n",
       "    </tr>\n",
       "    <tr>\n",
       "      <th>3</th>\n",
       "      <td>2019</td>\n",
       "      <td>7362741.0</td>\n",
       "      <td>22011293.0</td>\n",
       "      <td>8290324.0</td>\n",
       "      <td>1824807.0</td>\n",
       "    </tr>\n",
       "  </tbody>\n",
       "</table>\n",
       "</div>"
      ],
      "text/plain": [
       "   Year  Agropecuarios, alimentos y bebidas  \\\n",
       "0  2016                           6864748.0   \n",
       "1  2017                           7355648.0   \n",
       "2  2018                           7301253.0   \n",
       "3  2019                           7362741.0   \n",
       "\n",
       "   Combustibles y Prod de industrias extractivas  Manufacturas  Otros sectores  \n",
       "0                                     15801567.0     7526108.0       1575917.0  \n",
       "1                                     21171675.0     7709991.0       1784545.0  \n",
       "2                                     24783269.0     8324362.0       1495893.0  \n",
       "3                                     22011293.0     8290324.0       1824807.0  "
      ]
     },
     "execution_count": 359,
     "metadata": {},
     "output_type": "execute_result"
    }
   ],
   "source": [
    "#Se escoge un subcojunto del dataset y se borra la columna que no tiene ningún contenido\n",
    "expo_products = data1[0:4].dropna(axis=1, how=\"all\")\n",
    "expo_products"
   ]
  },
  {
   "cell_type": "markdown",
   "metadata": {},
   "source": [
    "## Análisis para los grupos de productos"
   ]
  },
  {
   "cell_type": "code",
   "execution_count": 360,
   "metadata": {},
   "outputs": [
    {
     "data": {
      "text/plain": [
       "Year                                              object\n",
       "Agropecuarios, alimentos y bebidas               float64\n",
       "Combustibles y Prod de industrias extractivas    float64\n",
       "Manufacturas                                     float64\n",
       "Otros sectores                                   float64\n",
       "dtype: object"
      ]
     },
     "execution_count": 360,
     "metadata": {},
     "output_type": "execute_result"
    }
   ],
   "source": [
    "#Revisamos los tipos de los datos para ver que no hayan tipos los cuales no dejen realizar algunos estadísticos\n",
    "expo_products.dtypes"
   ]
  },
  {
   "cell_type": "code",
   "execution_count": 361,
   "metadata": {},
   "outputs": [
    {
     "data": {
      "text/html": [
       "<div>\n",
       "<style scoped>\n",
       "    .dataframe tbody tr th:only-of-type {\n",
       "        vertical-align: middle;\n",
       "    }\n",
       "\n",
       "    .dataframe tbody tr th {\n",
       "        vertical-align: top;\n",
       "    }\n",
       "\n",
       "    .dataframe thead th {\n",
       "        text-align: right;\n",
       "    }\n",
       "</style>\n",
       "<table border=\"1\" class=\"dataframe\">\n",
       "  <thead>\n",
       "    <tr style=\"text-align: right;\">\n",
       "      <th></th>\n",
       "      <th>Agropecuarios, alimentos y bebidas</th>\n",
       "      <th>Combustibles y Prod de industrias extractivas</th>\n",
       "      <th>Manufacturas</th>\n",
       "      <th>Otros sectores</th>\n",
       "    </tr>\n",
       "  </thead>\n",
       "  <tbody>\n",
       "    <tr>\n",
       "      <th>count</th>\n",
       "      <td>4.00</td>\n",
       "      <td>4.00</td>\n",
       "      <td>4.00</td>\n",
       "      <td>4.00</td>\n",
       "    </tr>\n",
       "    <tr>\n",
       "      <th>mean</th>\n",
       "      <td>7221097.50</td>\n",
       "      <td>20941951.00</td>\n",
       "      <td>7962696.25</td>\n",
       "      <td>1670290.50</td>\n",
       "    </tr>\n",
       "    <tr>\n",
       "      <th>std</th>\n",
       "      <td>239148.90</td>\n",
       "      <td>3758347.91</td>\n",
       "      <td>405220.64</td>\n",
       "      <td>159426.35</td>\n",
       "    </tr>\n",
       "    <tr>\n",
       "      <th>min</th>\n",
       "      <td>6864748.00</td>\n",
       "      <td>15801567.00</td>\n",
       "      <td>7526108.00</td>\n",
       "      <td>1495893.00</td>\n",
       "    </tr>\n",
       "    <tr>\n",
       "      <th>25%</th>\n",
       "      <td>7192126.75</td>\n",
       "      <td>19829148.00</td>\n",
       "      <td>7664020.25</td>\n",
       "      <td>1555911.00</td>\n",
       "    </tr>\n",
       "    <tr>\n",
       "      <th>50%</th>\n",
       "      <td>7328450.50</td>\n",
       "      <td>21591484.00</td>\n",
       "      <td>8000157.50</td>\n",
       "      <td>1680231.00</td>\n",
       "    </tr>\n",
       "    <tr>\n",
       "      <th>75%</th>\n",
       "      <td>7357421.25</td>\n",
       "      <td>22704287.00</td>\n",
       "      <td>8298833.50</td>\n",
       "      <td>1794610.50</td>\n",
       "    </tr>\n",
       "    <tr>\n",
       "      <th>max</th>\n",
       "      <td>7362741.00</td>\n",
       "      <td>24783269.00</td>\n",
       "      <td>8324362.00</td>\n",
       "      <td>1824807.00</td>\n",
       "    </tr>\n",
       "  </tbody>\n",
       "</table>\n",
       "</div>"
      ],
      "text/plain": [
       "       Agropecuarios, alimentos y bebidas  \\\n",
       "count                                4.00   \n",
       "mean                           7221097.50   \n",
       "std                             239148.90   \n",
       "min                            6864748.00   \n",
       "25%                            7192126.75   \n",
       "50%                            7328450.50   \n",
       "75%                            7357421.25   \n",
       "max                            7362741.00   \n",
       "\n",
       "       Combustibles y Prod de industrias extractivas  Manufacturas  \\\n",
       "count                                           4.00          4.00   \n",
       "mean                                     20941951.00    7962696.25   \n",
       "std                                       3758347.91     405220.64   \n",
       "min                                      15801567.00    7526108.00   \n",
       "25%                                      19829148.00    7664020.25   \n",
       "50%                                      21591484.00    8000157.50   \n",
       "75%                                      22704287.00    8298833.50   \n",
       "max                                      24783269.00    8324362.00   \n",
       "\n",
       "       Otros sectores  \n",
       "count            4.00  \n",
       "mean       1670290.50  \n",
       "std         159426.35  \n",
       "min        1495893.00  \n",
       "25%        1555911.00  \n",
       "50%        1680231.00  \n",
       "75%        1794610.50  \n",
       "max        1824807.00  "
      ]
     },
     "execution_count": 361,
     "metadata": {},
     "output_type": "execute_result"
    }
   ],
   "source": [
    "#Revisamos los estadisticos básicos para cada grupo\n",
    "expo_products.drop(labels=\"Year\",axis=1).describe().round(decimals=2)"
   ]
  },
  {
   "cell_type": "code",
   "execution_count": 362,
   "metadata": {},
   "outputs": [
    {
     "data": {
      "image/png": "[encoded data removed]",
      "text/plain": [
       "<Figure size 1490.4x595.44 with 1 Axes>"
      ]
     },
     "metadata": {},
     "output_type": "display_data"
    }
   ],
   "source": [
    "#Boxplot\n",
    "sns.boxplot(data=expo_products.drop(labels=\"Year\",axis=1))\n",
    "sns.set(rc={'figure.figsize':(20.7, 8.27)})\n",
    "plt.show()"
   ]
  },
  {
   "cell_type": "code",
   "execution_count": 363,
   "metadata": {},
   "outputs": [
    {
     "data": {
      "text/plain": [
       "Agropecuarios, alimentos y bebidas                239148.90\n",
       "Combustibles y Prod de industrias extractivas    3758347.91\n",
       "Manufacturas                                      405220.64\n",
       "Otros sectores                                    159426.35\n",
       "dtype: float64"
      ]
     },
     "execution_count": 363,
     "metadata": {},
     "output_type": "execute_result"
    }
   ],
   "source": [
    "expo_products.std().round(decimals=2)"
   ]
  },
  {
   "cell_type": "markdown",
   "metadata": {},
   "source": [
    "<h3> ¿Cuál es el grupo de producto más estable? </h3>\n",
    "<p> Observando las desviaciones estándar es posible determinar que el grupo que tiene menor desviación estándar es \"Otros sectores\". Esto ya da una intuición de que grupo de producto es el más estable, ahora bien, realizando boxplot es posible observar confirmar lo anterior. Si bien el grupo de \"Combustibles y productos de industrias extractivas\" es el más <strong> rentable </strong>, es el menos estable de los grupos y por lo tanto el más estable sería \"Otros sectores\". Ahora bien al hablar de \"Otros sectores\" hay que destacar que no se está hablando de un solo grupo como tal,si no de unos sectores los cuales no están representados indivudualmente, por lo tanto si se quiere escoger un grupo estable que esté dentro de los analizados podría ser \"Agropecuarios, alimnentos y bebidas\"</p>"
   ]
  },
  {
   "cell_type": "markdown",
   "metadata": {},
   "source": [
    "<h2>En este data set se presenta las exportaciones en millones de dolares por pais, desde el año 2016-2019</h2>"
   ]
  },
  {
   "cell_type": "code",
   "execution_count": 364,
   "metadata": {},
   "outputs": [
    {
     "data": {
      "text/plain": [
       "array(['Year', 'Estados Unidos', 'Venezuela', 'Alemania', 'Ecuador',\n",
       "       'Belgica', 'Peru', 'Japon', 'Mexico'], dtype=object)"
      ]
     },
     "execution_count": 364,
     "metadata": {},
     "output_type": "execute_result"
    }
   ],
   "source": [
    "data2.columns.values"
   ]
  },
  {
   "cell_type": "code",
   "execution_count": 365,
   "metadata": {},
   "outputs": [
    {
     "data": {
      "text/html": [
       "<div>\n",
       "<style scoped>\n",
       "    .dataframe tbody tr th:only-of-type {\n",
       "        vertical-align: middle;\n",
       "    }\n",
       "\n",
       "    .dataframe tbody tr th {\n",
       "        vertical-align: top;\n",
       "    }\n",
       "\n",
       "    .dataframe thead th {\n",
       "        text-align: right;\n",
       "    }\n",
       "</style>\n",
       "<table border=\"1\" class=\"dataframe\">\n",
       "  <thead>\n",
       "    <tr style=\"text-align: right;\">\n",
       "      <th></th>\n",
       "      <th>Year</th>\n",
       "      <th>Estados Unidos</th>\n",
       "      <th>Venezuela</th>\n",
       "      <th>Alemania</th>\n",
       "      <th>Ecuador</th>\n",
       "      <th>Belgica</th>\n",
       "      <th>Peru</th>\n",
       "      <th>Japon</th>\n",
       "      <th>Mexico</th>\n",
       "    </tr>\n",
       "  </thead>\n",
       "  <tbody>\n",
       "    <tr>\n",
       "      <th>0</th>\n",
       "      <td>2016</td>\n",
       "      <td>10286</td>\n",
       "      <td>614</td>\n",
       "      <td>476</td>\n",
       "      <td>1200</td>\n",
       "      <td>451</td>\n",
       "      <td>1051</td>\n",
       "      <td>428</td>\n",
       "      <td>937</td>\n",
       "    </tr>\n",
       "    <tr>\n",
       "      <th>1</th>\n",
       "      <td>2017</td>\n",
       "      <td>10615</td>\n",
       "      <td>319</td>\n",
       "      <td>473</td>\n",
       "      <td>1465</td>\n",
       "      <td>507</td>\n",
       "      <td>1138</td>\n",
       "      <td>557</td>\n",
       "      <td>1537</td>\n",
       "    </tr>\n",
       "    <tr>\n",
       "      <th>2</th>\n",
       "      <td>2018</td>\n",
       "      <td>10674</td>\n",
       "      <td>354</td>\n",
       "      <td>449</td>\n",
       "      <td>1852</td>\n",
       "      <td>404</td>\n",
       "      <td>1165</td>\n",
       "      <td>474</td>\n",
       "      <td>1638</td>\n",
       "    </tr>\n",
       "    <tr>\n",
       "      <th>3</th>\n",
       "      <td>2019</td>\n",
       "      <td>11520</td>\n",
       "      <td>196</td>\n",
       "      <td>483</td>\n",
       "      <td>1954</td>\n",
       "      <td>487</td>\n",
       "      <td>1146</td>\n",
       "      <td>466</td>\n",
       "      <td>1409</td>\n",
       "    </tr>\n",
       "  </tbody>\n",
       "</table>\n",
       "</div>"
      ],
      "text/plain": [
       "   Year  Estados Unidos  Venezuela  Alemania  Ecuador  Belgica  Peru  Japon  \\\n",
       "0  2016           10286        614       476     1200      451  1051    428   \n",
       "1  2017           10615        319       473     1465      507  1138    557   \n",
       "2  2018           10674        354       449     1852      404  1165    474   \n",
       "3  2019           11520        196       483     1954      487  1146    466   \n",
       "\n",
       "   Mexico  \n",
       "0     937  \n",
       "1    1537  \n",
       "2    1638  \n",
       "3    1409  "
      ]
     },
     "execution_count": 365,
     "metadata": {},
     "output_type": "execute_result"
    }
   ],
   "source": [
    "data2"
   ]
  },
  {
   "cell_type": "code",
   "execution_count": 366,
   "metadata": {},
   "outputs": [
    {
     "data": {
      "text/html": [
       "<div>\n",
       "<style scoped>\n",
       "    .dataframe tbody tr th:only-of-type {\n",
       "        vertical-align: middle;\n",
       "    }\n",
       "\n",
       "    .dataframe tbody tr th {\n",
       "        vertical-align: top;\n",
       "    }\n",
       "\n",
       "    .dataframe thead th {\n",
       "        text-align: right;\n",
       "    }\n",
       "</style>\n",
       "<table border=\"1\" class=\"dataframe\">\n",
       "  <thead>\n",
       "    <tr style=\"text-align: right;\">\n",
       "      <th></th>\n",
       "      <th>Year</th>\n",
       "      <th>Estados Unidos</th>\n",
       "      <th>Venezuela</th>\n",
       "      <th>Alemania</th>\n",
       "      <th>Ecuador</th>\n",
       "      <th>Belgica</th>\n",
       "      <th>Peru</th>\n",
       "      <th>Japon</th>\n",
       "      <th>Mexico</th>\n",
       "    </tr>\n",
       "  </thead>\n",
       "  <tbody>\n",
       "    <tr>\n",
       "      <th>0</th>\n",
       "      <td>2016</td>\n",
       "      <td>10286</td>\n",
       "      <td>614</td>\n",
       "      <td>476</td>\n",
       "      <td>1200</td>\n",
       "      <td>451</td>\n",
       "      <td>1051</td>\n",
       "      <td>428</td>\n",
       "      <td>937</td>\n",
       "    </tr>\n",
       "    <tr>\n",
       "      <th>1</th>\n",
       "      <td>2017</td>\n",
       "      <td>10615</td>\n",
       "      <td>319</td>\n",
       "      <td>473</td>\n",
       "      <td>1465</td>\n",
       "      <td>507</td>\n",
       "      <td>1138</td>\n",
       "      <td>557</td>\n",
       "      <td>1537</td>\n",
       "    </tr>\n",
       "    <tr>\n",
       "      <th>2</th>\n",
       "      <td>2018</td>\n",
       "      <td>10674</td>\n",
       "      <td>354</td>\n",
       "      <td>449</td>\n",
       "      <td>1852</td>\n",
       "      <td>404</td>\n",
       "      <td>1165</td>\n",
       "      <td>474</td>\n",
       "      <td>1638</td>\n",
       "    </tr>\n",
       "    <tr>\n",
       "      <th>3</th>\n",
       "      <td>2019</td>\n",
       "      <td>11520</td>\n",
       "      <td>196</td>\n",
       "      <td>483</td>\n",
       "      <td>1954</td>\n",
       "      <td>487</td>\n",
       "      <td>1146</td>\n",
       "      <td>466</td>\n",
       "      <td>1409</td>\n",
       "    </tr>\n",
       "  </tbody>\n",
       "</table>\n",
       "</div>"
      ],
      "text/plain": [
       "   Year  Estados Unidos  Venezuela  Alemania  Ecuador  Belgica  Peru  Japon  \\\n",
       "0  2016           10286        614       476     1200      451  1051    428   \n",
       "1  2017           10615        319       473     1465      507  1138    557   \n",
       "2  2018           10674        354       449     1852      404  1165    474   \n",
       "3  2019           11520        196       483     1954      487  1146    466   \n",
       "\n",
       "   Mexico  \n",
       "0     937  \n",
       "1    1537  \n",
       "2    1638  \n",
       "3    1409  "
      ]
     },
     "execution_count": 366,
     "metadata": {},
     "output_type": "execute_result"
    }
   ],
   "source": [
    "#Se escoge un subcojunto del dataset y se borra la columna que no tiene ningún contenido\n",
    "expo_paises = data2.dropna(axis=1, how=\"all\")\n",
    "expo_paises"
   ]
  },
  {
   "cell_type": "markdown",
   "metadata": {},
   "source": [
    "## Análisis para los principales paises destino\n"
   ]
  },
  {
   "cell_type": "code",
   "execution_count": 367,
   "metadata": {},
   "outputs": [
    {
     "data": {
      "text/plain": [
       "Year                                              object\n",
       "Agropecuarios, alimentos y bebidas               float64\n",
       "Combustibles y Prod de industrias extractivas    float64\n",
       "Manufacturas                                     float64\n",
       "Otros sectores                                   float64\n",
       "dtype: object"
      ]
     },
     "execution_count": 367,
     "metadata": {},
     "output_type": "execute_result"
    }
   ],
   "source": [
    "#Revisamos los tipos de los datos para ver que no hayan tipos los cuales no dejen realizar algunos estadísticos\n",
    "expo_products.dtypes"
   ]
  },
  {
   "cell_type": "code",
   "execution_count": 387,
   "metadata": {},
   "outputs": [
    {
     "data": {
      "text/html": [
       "<div>\n",
       "<style scoped>\n",
       "    .dataframe tbody tr th:only-of-type {\n",
       "        vertical-align: middle;\n",
       "    }\n",
       "\n",
       "    .dataframe tbody tr th {\n",
       "        vertical-align: top;\n",
       "    }\n",
       "\n",
       "    .dataframe thead th {\n",
       "        text-align: right;\n",
       "    }\n",
       "</style>\n",
       "<table border=\"1\" class=\"dataframe\">\n",
       "  <thead>\n",
       "    <tr style=\"text-align: right;\">\n",
       "      <th></th>\n",
       "      <th>Estados Unidos</th>\n",
       "      <th>Venezuela</th>\n",
       "      <th>Alemania</th>\n",
       "      <th>Ecuador</th>\n",
       "      <th>Belgica</th>\n",
       "      <th>Peru</th>\n",
       "      <th>Japon</th>\n",
       "      <th>Mexico</th>\n",
       "    </tr>\n",
       "  </thead>\n",
       "  <tbody>\n",
       "    <tr>\n",
       "      <th>count</th>\n",
       "      <td>4.00</td>\n",
       "      <td>4.00</td>\n",
       "      <td>4.00</td>\n",
       "      <td>4.00</td>\n",
       "      <td>4.00</td>\n",
       "      <td>4.00</td>\n",
       "      <td>4.00</td>\n",
       "      <td>4.00</td>\n",
       "    </tr>\n",
       "    <tr>\n",
       "      <th>mean</th>\n",
       "      <td>10773.75</td>\n",
       "      <td>370.75</td>\n",
       "      <td>470.25</td>\n",
       "      <td>1617.75</td>\n",
       "      <td>462.25</td>\n",
       "      <td>1125.00</td>\n",
       "      <td>481.25</td>\n",
       "      <td>1380.25</td>\n",
       "    </tr>\n",
       "    <tr>\n",
       "      <th>std</th>\n",
       "      <td>525.97</td>\n",
       "      <td>175.75</td>\n",
       "      <td>14.77</td>\n",
       "      <td>349.18</td>\n",
       "      <td>45.22</td>\n",
       "      <td>50.62</td>\n",
       "      <td>54.34</td>\n",
       "      <td>310.00</td>\n",
       "    </tr>\n",
       "    <tr>\n",
       "      <th>min</th>\n",
       "      <td>10286.00</td>\n",
       "      <td>196.00</td>\n",
       "      <td>449.00</td>\n",
       "      <td>1200.00</td>\n",
       "      <td>404.00</td>\n",
       "      <td>1051.00</td>\n",
       "      <td>428.00</td>\n",
       "      <td>937.00</td>\n",
       "    </tr>\n",
       "    <tr>\n",
       "      <th>25%</th>\n",
       "      <td>10532.75</td>\n",
       "      <td>288.25</td>\n",
       "      <td>467.00</td>\n",
       "      <td>1398.75</td>\n",
       "      <td>439.25</td>\n",
       "      <td>1116.25</td>\n",
       "      <td>456.50</td>\n",
       "      <td>1291.00</td>\n",
       "    </tr>\n",
       "    <tr>\n",
       "      <th>50%</th>\n",
       "      <td>10644.50</td>\n",
       "      <td>336.50</td>\n",
       "      <td>474.50</td>\n",
       "      <td>1658.50</td>\n",
       "      <td>469.00</td>\n",
       "      <td>1142.00</td>\n",
       "      <td>470.00</td>\n",
       "      <td>1473.00</td>\n",
       "    </tr>\n",
       "    <tr>\n",
       "      <th>75%</th>\n",
       "      <td>10885.50</td>\n",
       "      <td>419.00</td>\n",
       "      <td>477.75</td>\n",
       "      <td>1877.50</td>\n",
       "      <td>492.00</td>\n",
       "      <td>1150.75</td>\n",
       "      <td>494.75</td>\n",
       "      <td>1562.25</td>\n",
       "    </tr>\n",
       "    <tr>\n",
       "      <th>max</th>\n",
       "      <td>11520.00</td>\n",
       "      <td>614.00</td>\n",
       "      <td>483.00</td>\n",
       "      <td>1954.00</td>\n",
       "      <td>507.00</td>\n",
       "      <td>1165.00</td>\n",
       "      <td>557.00</td>\n",
       "      <td>1638.00</td>\n",
       "    </tr>\n",
       "  </tbody>\n",
       "</table>\n",
       "</div>"
      ],
      "text/plain": [
       "       Estados Unidos  Venezuela  Alemania  Ecuador  Belgica     Peru   Japon  \\\n",
       "count            4.00       4.00      4.00     4.00     4.00     4.00    4.00   \n",
       "mean         10773.75     370.75    470.25  1617.75   462.25  1125.00  481.25   \n",
       "std            525.97     175.75     14.77   349.18    45.22    50.62   54.34   \n",
       "min          10286.00     196.00    449.00  1200.00   404.00  1051.00  428.00   \n",
       "25%          10532.75     288.25    467.00  1398.75   439.25  1116.25  456.50   \n",
       "50%          10644.50     336.50    474.50  1658.50   469.00  1142.00  470.00   \n",
       "75%          10885.50     419.00    477.75  1877.50   492.00  1150.75  494.75   \n",
       "max          11520.00     614.00    483.00  1954.00   507.00  1165.00  557.00   \n",
       "\n",
       "        Mexico  \n",
       "count     4.00  \n",
       "mean   1380.25  \n",
       "std     310.00  \n",
       "min     937.00  \n",
       "25%    1291.00  \n",
       "50%    1473.00  \n",
       "75%    1562.25  \n",
       "max    1638.00  "
      ]
     },
     "execution_count": 387,
     "metadata": {},
     "output_type": "execute_result"
    }
   ],
   "source": [
    "#Revisamos los estadisticos básicos para cada grupo\n",
    "expo_paises.drop(labels=\"Year\",axis=1).describe().round(decimals=2)"
   ]
  },
  {
   "cell_type": "code",
   "execution_count": 369,
   "metadata": {},
   "outputs": [
    {
     "data": {
      "image/png": "[encoded data removed]",
      "text/plain": [
       "<Figure size 1490.4x595.44 with 1 Axes>"
      ]
     },
     "metadata": {},
     "output_type": "display_data"
    }
   ],
   "source": [
    "#Graficando Boxplot\n",
    "sns.boxplot(data=expo_paises.drop(labels=\"Year\",axis=1).iloc[:,0:8])\n",
    "plt.show()"
   ]
  },
  {
   "cell_type": "code",
   "execution_count": 385,
   "metadata": {},
   "outputs": [
    {
     "data": {
      "image/png": "[encoded data removed]",
      "text/plain": [
       "<Figure size 1490.4x595.44 with 1 Axes>"
      ]
     },
     "metadata": {},
     "output_type": "display_data"
    }
   ],
   "source": [
    "#Graficando Violinplot\n",
    "sns.violinplot(data=expo_paises.drop(labels=\"Year\",axis=1))\n",
    "plt.show()"
   ]
  },
  {
   "cell_type": "code",
   "execution_count": 384,
   "metadata": {},
   "outputs": [
    {
     "data": {
      "text/plain": [
       "Estados Unidos    525.972354\n",
       "Venezuela         175.752430\n",
       "Alemania           14.773287\n",
       "Ecuador           349.182259\n",
       "Belgica            45.220755\n",
       "Peru               50.616203\n",
       "Japon              54.340746\n",
       "Mexico            310.001478\n",
       "dtype: float64"
      ]
     },
     "execution_count": 384,
     "metadata": {},
     "output_type": "execute_result"
    }
   ],
   "source": [
    "#Calculando las desviaciones estandar\n",
    "expo_paises.drop(labels=\"Year\",axis=1).std()"
   ]
  },
  {
   "cell_type": "markdown",
   "metadata": {},
   "source": [
    "<h3> ¿Cuál es el país más estable? </h3>\n",
    "<p> Observando el boxplot se podría decir que hay una especie de \"empate\" entre Alemania, Belgica, Perú y Japón, por lo tanto se realiza otro gráfico (en este caso el violinplot) para poder observar mejor la variación en los datos, aquí se puede observar que el quien tiene una menor variación es Alemania. Ahora, para asegurar esta idea se procede calcular las respectivas desviaciones estándar y gracias a eso posible confirmar que el país que tiene menor desviación estándar(menor variabilidad en sus datos) y por lo tanto el más estable en este análisis es Alemania </p>"
   ]
  },
  {
   "cell_type": "code",
   "execution_count": null,
   "metadata": {},
   "outputs": [],
   "source": []
  },
  {
   "cell_type": "code",
   "execution_count": null,
   "metadata": {},
   "outputs": [],
   "source": []
  }
 ],
 "metadata": {
  "kernelspec": {
   "display_name": "Python 3",
   "language": "python",
   "name": "python3"
  },
  "language_info": {
   "codemirror_mode": {
    "name": "ipython",
    "version": 3
   },
   "file_extension": ".py",
   "mimetype": "text/x-python",
   "name": "python",
   "nbconvert_exporter": "python",
   "pygments_lexer": "ipython3",
   "version": "3.8.3"
  }
 },
 "nbformat": 4,
 "nbformat_minor": 4
}
