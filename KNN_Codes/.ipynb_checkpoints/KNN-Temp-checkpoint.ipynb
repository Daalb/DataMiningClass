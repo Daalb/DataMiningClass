{
 "cells": [
  {
   "cell_type": "markdown",
   "metadata": {},
   "source": [
    "# KNN : K - Nearest Neighbors"
   ]
  },
  {
   "cell_type": "code",
   "execution_count": 2,
   "metadata": {},
   "outputs": [],
   "source": [
    "# Assigning features and label variables\n",
    "\n",
    "# First Feature\n",
    "weather=['Sunny','Sunny','Overcast','Rainy','Rainy','Rainy','Overcast','Sunny','Sunny',\n",
    "'Rainy','Sunny','Overcast','Overcast','Rainy']\n",
    "\n",
    "# Second Feature\n",
    "temp=['Hot','Hot','Hot','Mild','Cool','Cool','Cool','Mild','Cool','Mild','Mild','Mild','Hot','Mild']\n",
    "\n",
    "# Label or target variable\n",
    "play=['No','No','Yes','Yes','Yes','No','Yes','No','Yes','Yes','Yes','Yes','Yes','No']"
   ]
  },
  {
   "cell_type": "code",
   "execution_count": 3,
   "metadata": {},
   "outputs": [
    {
     "name": "stdout",
     "output_type": "stream",
     "text": [
      "[2 2 0 1 1 1 0 2 2 1 2 0 0 1]\n"
     ]
    }
   ],
   "source": [
    "# Import LabelEncoder\n",
    "from sklearn import preprocessing\n",
    "\n",
    "#creating labelEncoder\n",
    "le = preprocessing.LabelEncoder()\n",
    "\n",
    "# Converting weather string labels into numbers.\n",
    "weather_encoded = le.fit_transform(weather)\n",
    "\n",
    "#Print weather encoded\n",
    "print(weather_encoded)#Paso las categoricas a números"
   ]
  },
  {
   "cell_type": "code",
   "execution_count": 5,
   "metadata": {},
   "outputs": [
    {
     "name": "stdout",
     "output_type": "stream",
     "text": [
      "[0 0 1 1 1 0 1 0 1 1 1 1 1 0]\n"
     ]
    }
   ],
   "source": [
    "# converting temp string labels into numbers\n",
    "temp_encoded = le.fit_transform(temp)\n",
    "\n",
    "# converting play string labels into numbers\n",
    "label = le.fit_transform(play)\n",
    "print(label)"
   ]
  },
  {
   "cell_type": "code",
   "execution_count": 8,
   "metadata": {},
   "outputs": [
    {
     "name": "stdout",
     "output_type": "stream",
     "text": [
      "[(2, 1), (2, 1), (0, 1), (1, 2), (1, 0), (1, 0), (0, 0), (2, 2), (2, 0), (1, 2), (2, 2), (0, 2), (0, 1), (1, 2)]\n"
     ]
    }
   ],
   "source": [
    "#combinig weather and temp into single listof tuples\n",
    "features = list(zip(weather_encoded,temp_encoded))\n",
    "print(features)\n",
    "#Solo hago un array de listas"
   ]
  },
  {
   "cell_type": "code",
   "execution_count": 7,
   "metadata": {},
   "outputs": [
    {
     "data": {
      "text/plain": [
       "list"
      ]
     },
     "execution_count": 7,
     "metadata": {},
     "output_type": "execute_result"
    }
   ],
   "source": [
    "type(features)"
   ]
  },
  {
   "cell_type": "code",
   "execution_count": 14,
   "metadata": {
    "scrolled": true
   },
   "outputs": [
    {
     "name": "stdout",
     "output_type": "stream",
     "text": [
      "[1]\n"
     ]
    }
   ],
   "source": [
    "#import Classifier\n",
    "from sklearn.neighbors import KNeighborsClassifier\n",
    "from sklearn.model_selection import train_test_split\n",
    "\n",
    "#Create model with k=3\n",
    "model = KNeighborsClassifier(n_neighbors=3)\n",
    "\n",
    "# Training the Decision Tree - Can split the data here for training\n",
    "x_train, x_test, y_train, y_test = train_test_split(features,label , test_size=0.2, random_state=4)\n",
    "\n",
    "# Train the model using the training sets\n",
    "model.fit(x_train,y_train)\n",
    "\n",
    "#Predict Output for 0:Overcast, 2:Mild\n",
    "predicted = model.predict([[0,2]]) # 0:Overcast, 2:Mild\n",
    "\n",
    "#Print predicted value\n",
    "print(predicted)"
   ]
  },
  {
   "cell_type": "code",
   "execution_count": 18,
   "metadata": {
    "scrolled": true
   },
   "outputs": [
    {
     "name": "stdout",
     "output_type": "stream",
     "text": [
      "RMSE value for k=  1 is: 0.5773502691896257\n",
      "RMSE value for k=  2 is: 1.0\n",
      "RMSE value for k=  3 is: 0.5773502691896257\n",
      "RMSE value for k=  4 is: 0.816496580927726\n",
      "RMSE value for k=  5 is: 0.5773502691896257\n",
      "RMSE value for k=  6 is: 0.816496580927726\n",
      "RMSE value for k=  7 is: 0.5773502691896257\n",
      "RMSE value for k=  8 is: 0.5773502691896257\n",
      "RMSE value for k=  9 is: 0.5773502691896257\n",
      "RMSE value for k=  10 is: 1.0\n"
     ]
    }
   ],
   "source": [
    "#import required packages\n",
    "from sklearn import neighbors\n",
    "from sklearn.metrics import mean_squared_error \n",
    "from math import sqrt\n",
    "import matplotlib.pyplot as plt\n",
    "\n",
    "rmse_val = [] #to store rmse values for different k\n",
    "for K in range(10):\n",
    "    K = K+1\n",
    "    model = neighbors.KNeighborsClassifier(n_neighbors = K)\n",
    "\n",
    "    model.fit(x_train, y_train)  #fit the model\n",
    "    pred = model.predict(x_test) #make prediction on test set\n",
    "    error = sqrt(mean_squared_error(y_test,pred)) #calculate rmse\n",
    "    rmse_val.append(error) #store rmse values\n",
    "    print('RMSE value for k= ' , K , 'is:', error)\n",
    "    \n",
    "#Escogemos el K que nos arroge menor error"
   ]
  },
  {
   "cell_type": "code",
   "execution_count": 19,
   "metadata": {},
   "outputs": [
    {
     "data": {
      "image/png": "[encoded data removed]",
      "text/plain": [
       "<Figure size 432x288 with 1 Axes>"
      ]
     },
     "metadata": {
      "needs_background": "light"
     },
     "output_type": "display_data"
    }
   ],
   "source": [
    "import matplotlib.pyplot as plt\n",
    "\n",
    "#prep plot series based on label\n",
    "def condition(x): return x == 0\n",
    "output = [idx for idx, element in enumerate(label) if condition(element)]\n",
    "from operator import itemgetter \n",
    "x1 = itemgetter(*output)(weather_encoded)\n",
    "y1 = itemgetter(*output)(temp_encoded)\n",
    "z1 = itemgetter(*output)(label)\n",
    "\n",
    "def condition(x): return x == 1\n",
    "output = [idx for idx, element in enumerate(label) if condition(element)]\n",
    "from operator import itemgetter \n",
    "x2 = itemgetter(*output)(weather_encoded)\n",
    "y2 = itemgetter(*output)(temp_encoded)\n",
    "z2 = itemgetter(*output)(label)\n",
    "\n",
    "plt.scatter(x1, y1, marker='o', color='r', alpha=0.5)\n",
    "plt.scatter(x2, y2, marker='^', color='b', alpha=0.5)\n",
    "plt.show()"
   ]
  },
  {
   "cell_type": "code",
   "execution_count": 22,
   "metadata": {},
   "outputs": [
    {
     "data": {
      "image/png": "[encoded data removed]",
      "text/plain": [
       "<Figure size 432x288 with 1 Axes>"
      ]
     },
     "metadata": {
      "needs_background": "light"
     },
     "output_type": "display_data"
    }
   ],
   "source": [
    "#Create 3D plot\n",
    "\n",
    "#import libraries\n",
    "from mpl_toolkits.mplot3d import Axes3D\n",
    "import matplotlib.pyplot as plt\n",
    "\n",
    "#create fig\n",
    "fig = plt.figure()\n",
    "ax = fig.add_subplot(111, projection='3d')\n",
    "\n",
    "x3 = 0\n",
    "y3 = 2\n",
    "z3 = 1\n",
    "\n",
    "#create series\n",
    "ax.scatter(x1, y1, z1, c='r', marker='o')\n",
    "ax.scatter(x2, y2, z2, c='b', marker='^')\n",
    "ax.scatter(x3, y3, z3, c='g', marker='*')\n",
    "\n",
    "#set labels\n",
    "ax.set_xlabel('X Label')\n",
    "ax.set_ylabel('Y Label')\n",
    "ax.set_zlabel('Z Label')\n",
    "\n",
    "#show plot\n",
    "plt.show()\n",
    "\n",
    "#Piso no se puede jugar\n",
    "#Techo se puede jugar"
   ]
  },
  {
   "cell_type": "code",
   "execution_count": null,
   "metadata": {},
   "outputs": [],
   "source": []
  }
 ],
 "metadata": {
  "kernelspec": {
   "display_name": "Python 3",
   "language": "python",
   "name": "python3"
  },
  "language_info": {
   "codemirror_mode": {
    "name": "ipython",
    "version": 3
   },
   "file_extension": ".py",
   "mimetype": "text/x-python",
   "name": "python",
   "nbconvert_exporter": "python",
   "pygments_lexer": "ipython3",
   "version": "3.8.3"
  },
  "toc": {
   "base_numbering": 1,
   "nav_menu": {},
   "number_sections": true,
   "sideBar": true,
   "skip_h1_title": false,
   "title_cell": "Table of Contents",
   "title_sidebar": "Contents",
   "toc_cell": false,
   "toc_position": {},
   "toc_section_display": true,
   "toc_window_display": false
  },
  "varInspector": {
   "cols": {
    "lenName": 16,
    "lenType": 16,
    "lenVar": 40
   },
   "kernels_config": {
    "python": {
     "delete_cmd_postfix": "",
     "delete_cmd_prefix": "del ",
     "library": "var_list.py",
     "varRefreshCmd": "print(var_dic_list())"
    },
    "r": {
     "delete_cmd_postfix": ") ",
     "delete_cmd_prefix": "rm(",
     "library": "var_list.r",
     "varRefreshCmd": "cat(var_dic_list()) "
    }
   },
   "types_to_exclude": [
    "module",
    "function",
    "builtin_function_or_method",
    "instance",
    "_Feature"
   ],
   "window_display": false
  }
 },
 "nbformat": 4,
 "nbformat_minor": 2
}
