{
 "cells": [
  {
   "cell_type": "markdown",
   "metadata": {},
   "source": [
    "# Naive Bayes Classifier"
   ]
  },
  {
   "cell_type": "markdown",
   "metadata": {},
   "source": [
    "$P(c|x)=P(c)\\prod_{i=1}^{n}{P(X_i|c)}$"
   ]
  },
  {
   "cell_type": "code",
   "execution_count": 8,
   "metadata": {},
   "outputs": [],
   "source": [
    "# Define and Assign features and label variables\n",
    "wheather=['Sunny','Sunny','Overcast','Rainy','Rainy','Rainy','Overcast','Sunny','Sunny',\n",
    "'Rainy','Sunny','Overcast','Overcast','Rainy']\n",
    "\n",
    "temp=['Hot','Hot','Hot','Mild','Cool','Cool','Cool','Mild','Cool','Mild','Mild','Mild','Hot','Mild']\n",
    "\n",
    "play=['No','No','Yes','Yes','Yes','No','Yes','No','Yes','Yes','Yes','Yes','Yes','No']"
   ]
  },
  {
   "cell_type": "code",
   "execution_count": 9,
   "metadata": {},
   "outputs": [
    {
     "name": "stdout",
     "output_type": "stream",
     "text": [
      "[2 2 0 1 1 1 0 2 2 1 2 0 0 1]\n"
     ]
    }
   ],
   "source": [
    "# Import LabelEncoder\n",
    "from sklearn import preprocessing#Un package que nos permite hacer llamado a funciones preprocesadas, antes de ajustar el modelo\n",
    "\n",
    "\n",
    "#creating labelEncoder\n",
    "le = preprocessing.LabelEncoder()#Para cada algoritmo usa diferente funcion preprocesada. En este caso vamos a etiquetar\n",
    "\n",
    "# Converting weather string labels into numbers.\n",
    "wheather_encoded = le.fit_transform(wheather)\n",
    "\n",
    "#Print weater_encoded\n",
    "print(wheather_encoded)#Pasa las variables a números 2-Sunny 0-Overcast 1-Rainy\n",
    "#Se pudo haber puesto 0,1,2 desde el principio, pero esto es mejor cuando se tienen poquitos datos. Si tuviesemos más, mejor\n",
    "# echar mano de la función\n",
    "\n",
    "#Es ingenuo porque solo conoce la información anterior y la más antigua la desecha. Por eso el \"Naive\""
   ]
  },
  {
   "cell_type": "code",
   "execution_count": 3,
   "metadata": {},
   "outputs": [
    {
     "name": "stdout",
     "output_type": "stream",
     "text": [
      "Temp: [1 1 1 2 0 0 0 2 0 2 2 2 1 2]\n",
      "Play: [0 0 1 1 1 0 1 0 1 1 1 1 1 0]\n"
     ]
    }
   ],
   "source": [
    "# Converting temp string labels into numbers\n",
    "temp_encoded=le.fit_transform(temp)\n",
    "\n",
    "# Converting play string labels into numbers and assign to label\n",
    "label = le.fit_transform(play)\n",
    "\n",
    "# Print temp encoded\n",
    "print(\"Temp:\",temp_encoded)\n",
    "\n",
    "# Print label Play\n",
    "print(\"Play:\",label)"
   ]
  },
  {
   "cell_type": "code",
   "execution_count": 4,
   "metadata": {},
   "outputs": [
    {
     "name": "stdout",
     "output_type": "stream",
     "text": [
      "[(2, 1), (2, 1), (0, 1), (1, 2), (1, 0), (1, 0), (0, 0), (2, 2), (2, 0), (1, 2), (2, 2), (0, 2), (0, 1), (1, 2)]\n"
     ]
    }
   ],
   "source": [
    "#Combinig weather and temp into single list of tuples and assign the features\n",
    "features = list(zip(wheather_encoded,temp_encoded))\n",
    "#features = tuple(zip(wheather_encoded,temp_encoded))\n",
    "\n",
    "# Print features\n",
    "print(features)"
   ]
  },
  {
   "cell_type": "code",
   "execution_count": 5,
   "metadata": {},
   "outputs": [
    {
     "name": "stdout",
     "output_type": "stream",
     "text": [
      "Predicted value: [1]\n"
     ]
    }
   ],
   "source": [
    "#Import Gaussian Naive Bayes model\n",
    "from sklearn.naive_bayes import GaussianNB #Es el clasificador de Naives Bayes\n",
    "\n",
    "#Create a Gaussian Classifier and assign to model\n",
    "model = GaussianNB()\n",
    "\n",
    "# Train the model using the training sets\n",
    "model.fit(features,label)\n",
    "\n",
    "#Call Predict function for 0:Overcast, 2:Mild and assign to predicted\n",
    "predicted = model.predict([[0,2]])  #Si transformamos nuestras variables,pues las predicciones también se darán transformadas\n",
    "\n",
    "#Print predicted value\n",
    "print(\"Predicted value:\",predicted)"
   ]
  },
  {
   "cell_type": "code",
   "execution_count": null,
   "metadata": {},
   "outputs": [],
   "source": []
  }
 ],
 "metadata": {
  "kernelspec": {
   "display_name": "Python 3",
   "language": "python",
   "name": "python3"
  },
  "language_info": {
   "codemirror_mode": {
    "name": "ipython",
    "version": 3
   },
   "file_extension": ".py",
   "mimetype": "text/x-python",
   "name": "python",
   "nbconvert_exporter": "python",
   "pygments_lexer": "ipython3",
   "version": "3.8.3"
  },
  "toc": {
   "base_numbering": 1,
   "nav_menu": {},
   "number_sections": true,
   "sideBar": true,
   "skip_h1_title": false,
   "title_cell": "Table of Contents",
   "title_sidebar": "Contents",
   "toc_cell": false,
   "toc_position": {},
   "toc_section_display": true,
   "toc_window_display": false
  },
  "varInspector": {
   "cols": {
    "lenName": 16,
    "lenType": 16,
    "lenVar": 40
   },
   "kernels_config": {
    "python": {
     "delete_cmd_postfix": "",
     "delete_cmd_prefix": "del ",
     "library": "var_list.py",
     "varRefreshCmd": "print(var_dic_list())"
    },
    "r": {
     "delete_cmd_postfix": ") ",
     "delete_cmd_prefix": "rm(",
     "library": "var_list.r",
     "varRefreshCmd": "cat(var_dic_list()) "
    }
   },
   "types_to_exclude": [
    "module",
    "function",
    "builtin_function_or_method",
    "instance",
    "_Feature"
   ],
   "window_display": false
  }
 },
 "nbformat": 4,
 "nbformat_minor": 2
}
