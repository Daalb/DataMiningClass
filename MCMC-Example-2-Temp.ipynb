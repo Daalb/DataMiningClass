{
 "cells": [
  {
   "cell_type": "markdown",
   "metadata": {},
   "source": [
    "**MCMC-Example**<br>\n",
    "Beta distribution<br>\n",
    "${f(x)} = {Cx^{\\alpha-1}}{(1-x)}^{\\beta-1}$"
   ]
  },
  {
   "cell_type": "code",
   "execution_count": null,
   "metadata": {},
   "outputs": [],
   "source": [
    "import random\n",
    "import pylab as pl\n",
    "import scipy.special as ss\n",
    "from scipy.stats import beta\n",
    "\n",
    "%matplotlib inline\n",
    "pl.rcParams['figure.figsize'] = (17.0, 4.0)"
   ]
  },
  {
   "cell_type": "code",
   "execution_count": null,
   "metadata": {},
   "outputs": [],
   "source": [
    "# Lets define our Beta Function to generate s for any particular state. We don't care for the normalizing constant here.\n",
    "def beta_s():\n",
    "    return w**(-1)*(-w)**(-1)\n",
    "\n",
    "# This Function returns True if the coin with probability P of heads comes heads when flipped.\n",
    "def random_coin():\n",
    "    unif = \n",
    "    if unif>=:\n",
    "        return \n",
    "    else:\n",
    "        return \n",
    "\n",
    "# This Function runs the MCMC chain for Beta Distribution.\n",
    "def beta_mcmc():\n",
    "    states = \n",
    "    cur = \n",
    "    for i in range():\n",
    "        states\n",
    "        next = \n",
    "        ap = min() # Calculate the acceptance probability\n",
    "        if random_coin():\n",
    "            cur = \n",
    "    return states[-1000:] # Returns the last 100 states of the chain"
   ]
  },
  {
   "cell_type": "code",
   "execution_count": null,
   "metadata": {},
   "outputs": [],
   "source": [
    "# Actual Beta PDF.\n",
    "def beta2(a, b, i):\n",
    "    e1 = ss.gamma(a + b)\n",
    "    e2 = ss.gamma(a)\n",
    "    e3 = ss.gamma(b)\n",
    "    e4 = i ** (a - 1)\n",
    "    e5 = (1 - i) ** (b - 1)\n",
    "    if (e2*e3)==0:\n",
    "        return 0\n",
    "    else:\n",
    "        return (e1/(e2*e3)) * e4 * e5\n",
    "\n",
    "# Create a function to plot Actual Beta PDF with the Beta Sampled from MCMC Chain.\n",
    "def ():\n",
    "    Ly = []\n",
    "     = []\n",
    "    i_list = np.mgrid[]\n",
    "    for i in i_list:\n",
    "        Lx.append()\n",
    "        #Ly.append(beta(a, b, i))\n",
    "        \n",
    "        \n",
    "    pl.plot(, label=\"Real Distribution: a=\"+str(a)+\", b=\"+str(b))\n",
    "    pl.hist(, density=True,bins =25, histtype='step',label=\"Simulated_MCMC: a=\"+str(a)+\", b=\"+str(b))\n",
    "    pl.legend()\n",
    "    pl.show()\n",
    "    \n",
    "\n"
   ]
  }
 ],
 "metadata": {
  "kernelspec": {
   "display_name": "Python 3",
   "language": "python",
   "name": "python3"
  },
  "language_info": {
   "codemirror_mode": {
    "name": "ipython",
    "version": 3
   },
   "file_extension": ".py",
   "mimetype": "text/x-python",
   "name": "python",
   "nbconvert_exporter": "python",
   "pygments_lexer": "ipython3",
   "version": "3.8.3"
  },
  "toc": {
   "base_numbering": 1,
   "nav_menu": {},
   "number_sections": true,
   "sideBar": true,
   "skip_h1_title": false,
   "title_cell": "Table of Contents",
   "title_sidebar": "Contents",
   "toc_cell": false,
   "toc_position": {},
   "toc_section_display": true,
   "toc_window_display": false
  },
  "varInspector": {
   "cols": {
    "lenName": 16,
    "lenType": 16,
    "lenVar": 40
   },
   "kernels_config": {
    "python": {
     "delete_cmd_postfix": "",
     "delete_cmd_prefix": "del ",
     "library": "var_list.py",
     "varRefreshCmd": "print(var_dic_list())"
    },
    "r": {
     "delete_cmd_postfix": ") ",
     "delete_cmd_prefix": "rm(",
     "library": "var_list.r",
     "varRefreshCmd": "cat(var_dic_list()) "
    }
   },
   "types_to_exclude": [
    "module",
    "function",
    "builtin_function_or_method",
    "instance",
    "_Feature"
   ],
   "window_display": false
  }
 },
 "nbformat": 4,
 "nbformat_minor": 4
}
