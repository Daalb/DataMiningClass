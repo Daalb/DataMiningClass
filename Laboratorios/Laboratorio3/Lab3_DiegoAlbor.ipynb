{
 "cells": [
  {
   "cell_type": "code",
   "execution_count": 2,
   "metadata": {},
   "outputs": [],
   "source": [
    "#Sección de librerias\n",
    "from matplotlib import pyplot as plt\n",
    "import pandas as pd\n",
    "import matplotlib.pyplot as plt\n",
    "import seaborn as sns\n"
   ]
  },
  {
   "cell_type": "code",
   "execution_count": 14,
   "metadata": {},
   "outputs": [],
   "source": [
    "#Sección de carga de datasets\n",
    "file1 = './RunningData.csv'\n",
    "file2= './Accidentalidad_en_Barranquilla.xls'"
   ]
  },
  {
   "cell_type": "code",
   "execution_count": 15,
   "metadata": {},
   "outputs": [],
   "source": [
    "#Dataframes\n",
    "running = pd.read_csv(file1)\n",
    "accbaq = pd.read_excel(file2)"
   ]
  },
  {
   "cell_type": "code",
   "execution_count": 26,
   "metadata": {},
   "outputs": [
    {
     "data": {
      "text/plain": [
       "507"
      ]
     },
     "execution_count": 26,
     "metadata": {},
     "output_type": "execute_result"
    }
   ],
   "source": [
    "pd.isnull(running[\"Route Name\"]).values.ravel().sum()#ravel() combina el array para que sea una única fila\n"
   ]
  },
  {
   "cell_type": "code",
   "execution_count": 27,
   "metadata": {},
   "outputs": [
    {
     "data": {
      "text/plain": [
       "<bound method NDFrame.tail of                  Date                           Activity Id     Type  \\\n",
       "0    11/11/2018 14:05  c9627fed-14ac-47a2-bed3-2a2630c63c15  Running   \n",
       "1     11/9/2018 15:02  be65818d-a801-4847-a43b-2acdf4dc70e7  Running   \n",
       "2     11/4/2018 16:05  c09b2f92-f855-497c-b624-c196b3ef036c  Running   \n",
       "3     11/1/2018 14:03  bc9b612d-3499-43ff-b82a-9b17b71b8a36  Running   \n",
       "4    10/27/2018 17:01  972567b2-1b0e-437c-9e82-fef8078d6438  Running   \n",
       "..                ...                                   ...      ...   \n",
       "503    8/28/2012 7:06  f5218490-a372-44c8-bb20-de3b91984cbe  Walking   \n",
       "504   8/24/2012 12:59  018f66a7-da5e-4985-a8fe-725a33317c87  Walking   \n",
       "505   8/24/2012 10:12  7acec95a-d63d-435d-837c-7befb352f500  Walking   \n",
       "506    8/24/2012 8:13  f790bdb2-b921-4018-bd39-d59d870c5847  Running   \n",
       "507   8/22/2012 18:53  706d4d6b-767d-40aa-81c9-e5e85a102051  Running   \n",
       "\n",
       "    Route Name  Distance (km)  Duration Average Pace  Average Speed (km/h)  \\\n",
       "0          NaN          10.44  58:40:00         5:37                 10.68   \n",
       "1          NaN          12.84   1:14:12         5:47                 10.39   \n",
       "2          NaN          13.01   1:15:16         5:47                 10.37   \n",
       "3          NaN          12.98   1:14:25         5:44                 10.47   \n",
       "4          NaN          13.02   1:12:50         5:36                 10.73   \n",
       "..         ...            ...       ...          ...                   ...   \n",
       "503        NaN           1.57     13:39         8:41                  6.91   \n",
       "504        NaN           1.48     17:56        12:09                  4.94   \n",
       "505        NaN           1.49     13:43         9:14                  6.49   \n",
       "506        NaN           3.15     16:00         5:05                 11.82   \n",
       "507        NaN           5.69  31:08:00         5:29                 10.95   \n",
       "\n",
       "     Calories Burned  Climb (m)  Average Heart Rate (bpm)  Friend's Tagged  \\\n",
       "0              774.0        130                     159.0              NaN   \n",
       "1              954.0        168                     159.0              NaN   \n",
       "2              967.0        171                     155.0              NaN   \n",
       "3              960.0        169                     158.0              NaN   \n",
       "4              967.0        170                     154.0              NaN   \n",
       "..               ...        ...                       ...              ...   \n",
       "503         926743.0          7                       NaN              NaN   \n",
       "504         942192.0         12                       NaN              NaN   \n",
       "505         924486.0          9                       NaN              NaN   \n",
       "506        2288868.0         17                       NaN              NaN   \n",
       "507        4072685.0         32                       NaN              NaN   \n",
       "\n",
       "    Notes               GPX File  \n",
       "0     NaN  2018-11-11-140512.gpx  \n",
       "1     NaN  2018-11-09-150235.gpx  \n",
       "2     NaN  2018-11-04-160500.gpx  \n",
       "3     NaN  2018-11-01-140358.gpx  \n",
       "4     NaN  2018-10-27-170136.gpx  \n",
       "..    ...                    ...  \n",
       "503   NaN  2012-08-28-070657.gpx  \n",
       "504   NaN  2012-08-24-125942.gpx  \n",
       "505   NaN  2012-08-24-101216.gpx  \n",
       "506   NaN  2012-08-24-081312.gpx  \n",
       "507   NaN  2012-08-22-185354.gpx  \n",
       "\n",
       "[508 rows x 14 columns]>"
      ]
     },
     "execution_count": 27,
     "metadata": {},
     "output_type": "execute_result"
    }
   ],
   "source": [
    "running.tail"
   ]
  },
  {
   "cell_type": "code",
   "execution_count": null,
   "metadata": {},
   "outputs": [],
   "source": []
  }
 ],
 "metadata": {
  "kernelspec": {
   "display_name": "Python 3",
   "language": "python",
   "name": "python3"
  },
  "language_info": {
   "codemirror_mode": {
    "name": "ipython",
    "version": 3
   },
   "file_extension": ".py",
   "mimetype": "text/x-python",
   "name": "python",
   "nbconvert_exporter": "python",
   "pygments_lexer": "ipython3",
   "version": "3.8.3"
  }
 },
 "nbformat": 4,
 "nbformat_minor": 4
}
