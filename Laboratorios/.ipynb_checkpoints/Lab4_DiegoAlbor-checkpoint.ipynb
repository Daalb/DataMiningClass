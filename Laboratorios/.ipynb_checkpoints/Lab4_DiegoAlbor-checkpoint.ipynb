{
 "cells": [
  {
   "cell_type": "markdown",
   "metadata": {},
   "source": [
    "# Punto 3 MCMC"
   ]
  },
  {
   "cell_type": "markdown",
   "metadata": {},
   "source": [
    "$f(x) = (\\cfrac{x^{c-1}}{\\gamma(c) \\cdot b^c})^{\\cfrac{-x}{b}}$"
   ]
  },
  {
   "cell_type": "code",
   "execution_count": 70,
   "metadata": {},
   "outputs": [],
   "source": [
    "#Zona de importaciones\n",
    "import random\n",
    "import numpy as np\n",
    "import matplotlib.pyplot as plt\n",
    "import pandas as pd\n",
    "import scipy.special as ss\n",
    "from scipy.stats import gamma\n",
    "%matplotlib inline\n",
    "plt.rcParams['figure.figsize'] = (17.0, 4.0)"
   ]
  },
  {
   "cell_type": "code",
   "execution_count": 71,
   "metadata": {},
   "outputs": [],
   "source": [
    "#Definimos la función\n",
    "def f_rara(x,b,c):\n",
    "    return (x**(c-1))/(ss.gamma(c)*b**c)**(-x/b)"
   ]
  },
  {
   "cell_type": "code",
   "execution_count": 72,
   "metadata": {},
   "outputs": [],
   "source": [
    "#Función para dar chance a el estado escogido\n",
    "def random_coin(p):\n",
    "    unif = random.uniform(0,1)\n",
    "    if unif>=p:\n",
    "        return False \n",
    "    else:\n",
    "        return True"
   ]
  },
  {
   "cell_type": "code",
   "execution_count": 73,
   "metadata": {},
   "outputs": [],
   "source": [
    "#Calculamos la función por medio de MCMC, utilizamos dos estados (actual y siguiente), \n",
    "def frara_mcmc(X,b,c):\n",
    "    states = []\n",
    "    cur = random.uniform(0,20)\n",
    "    for i in range(0, X):\n",
    "        states.append(cur)\n",
    "        next = random.uniform(0,20)\n",
    "        ap = min(f_rara(next,b,c)/f_rara(cur,b,c), 1)\n",
    "        if random_coin(ap):\n",
    "            cur = next\n",
    "    return states[-1000:] "
   ]
  },
  {
   "cell_type": "code",
   "execution_count": 83,
   "metadata": {},
   "outputs": [],
   "source": [
    "#Gráficamos la función generada por MCMC vs la original\n",
    "def plot_frara(b,c):\n",
    "    Ly = []\n",
    "    Lx = []\n",
    "    i_list = np.mgrid[0:1:1000j]\n",
    "    for i in i_list:\n",
    "        Lx.append(i)\n",
    "        Ly.append(gamma.pdf(i, b, c))\n",
    "        \n",
    "        \n",
    "    plt.plot(Lx, Ly, label=\"Real Distribution: b=\"+str(b)+\", c=\"+str(c))\n",
    "    plt.hist(frara_mcmc(100,b,c), density=True,bins =25, histtype='step',label=\"Simulated_MCMC: b=\"+str(b)+\", c=\"+str(c))\n",
    "    plt.legend()\n",
    "    plt.show()"
   ]
  },
  {
   "cell_type": "code",
   "execution_count": 82,
   "metadata": {},
   "outputs": [
    {
     "data": {
      "image/png": "[encoded data removed]",
      "text/plain": [
       "<Figure size 1224x288 with 1 Axes>"
      ]
     },
     "metadata": {
      "needs_background": "light"
     },
     "output_type": "display_data"
    }
   ],
   "source": [
    "plot_frara(1.0,2.0)"
   ]
  },
  {
   "cell_type": "code",
   "execution_count": null,
   "metadata": {},
   "outputs": [],
   "source": []
  }
 ],
 "metadata": {
  "kernelspec": {
   "display_name": "Python 3",
   "language": "python",
   "name": "python3"
  },
  "language_info": {
   "codemirror_mode": {
    "name": "ipython",
    "version": 3
   },
   "file_extension": ".py",
   "mimetype": "text/x-python",
   "name": "python",
   "nbconvert_exporter": "python",
   "pygments_lexer": "ipython3",
   "version": "3.8.3"
  },
  "toc": {
   "base_numbering": 1,
   "nav_menu": {},
   "number_sections": true,
   "sideBar": true,
   "skip_h1_title": false,
   "title_cell": "Table of Contents",
   "title_sidebar": "Contents",
   "toc_cell": false,
   "toc_position": {},
   "toc_section_display": true,
   "toc_window_display": false
  }
 },
 "nbformat": 4,
 "nbformat_minor": 4
}
