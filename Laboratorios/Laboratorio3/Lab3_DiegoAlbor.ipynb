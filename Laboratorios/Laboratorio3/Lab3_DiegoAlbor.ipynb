{
 "cells": [
  {
   "cell_type": "code",
   "execution_count": 7,
   "metadata": {},
   "outputs": [],
   "source": [
    "#Sección de librerias\n",
    "from matplotlib import pyplot as plt\n",
    "import pandas as pd\n",
    "import matplotlib.pyplot as plt\n",
    "import seaborn as sns\n",
    "import numpy as np\n",
    "from scipy.stats import norm\n"
   ]
  },
  {
   "cell_type": "code",
   "execution_count": 8,
   "metadata": {},
   "outputs": [],
   "source": [
    "#Sección de carga de datasets\n",
    "file1 = 'RunningData.csv'\n",
    "file2= 'Accidentalidad_en_Barranquilla.xls'"
   ]
  },
  {
   "cell_type": "code",
   "execution_count": 9,
   "metadata": {},
   "outputs": [],
   "source": [
    "#Dataframes\n",
    "running = pd.read_csv(file1)\n",
    "accbaq = pd.read_excel(file2)"
   ]
  },
  {
   "cell_type": "code",
   "execution_count": 10,
   "metadata": {},
   "outputs": [],
   "source": [
    "#Sacamos los datos necesarios para el análisis\n",
    "distancia = running['Distance (km)']\n",
    "accdate = accbaq[['AÑO_ACCIDENTE','MES_ACCIDENTE','DIA_ACCIDENTE','CANTIDAD_ACCIDENTES']]"
   ]
  },
  {
   "cell_type": "markdown",
   "metadata": {},
   "source": [
    "# Running Data Analysis"
   ]
  },
  {
   "cell_type": "code",
   "execution_count": 11,
   "metadata": {},
   "outputs": [
    {
     "data": {
      "image/png": "[encoded data removed]",
      "text/plain": [
       "<Figure size 432x288 with 1 Axes>"
      ]
     },
     "metadata": {
      "needs_background": "light"
     },
     "output_type": "display_data"
    }
   ],
   "source": [
    "c = int(np.ceil(1+np.log2(508)))#Usamos la regla de Sturges para una mejor división\n",
    "plt.hist(distancia,bins=c)\n",
    "plt.xlabel(\"Distancia (Km)\")\n",
    "plt.ylabel(\"Frecuencia\")\n",
    "plt.xticks(np.arange(0,50,5))\n",
    "plt.show()"
   ]
  },
  {
   "cell_type": "code",
   "execution_count": 12,
   "metadata": {},
   "outputs": [
    {
     "data": {
      "text/plain": [
       "count    508.000000\n",
       "mean      12.041732\n",
       "std        6.064125\n",
       "min        0.760000\n",
       "25%        9.495000\n",
       "50%       11.460000\n",
       "75%       13.642500\n",
       "max       49.180000\n",
       "Name: Distance (km), dtype: float64"
      ]
     },
     "execution_count": 12,
     "metadata": {},
     "output_type": "execute_result"
    }
   ],
   "source": [
    "distancia.describe()"
   ]
  },
  {
   "cell_type": "markdown",
   "metadata": {},
   "source": [
    "<p>Con un primer vistazo a los datos podemos darnos una idea de las probabilidades para cada una de las pregunta. Podemos observar que la frecuencia de personas que recorren 10km es mayor que las que recorren 15km. Además, también es posible decir que los datos tienen forma de una distribución normal</p>"
   ]
  },
  {
   "cell_type": "code",
   "execution_count": 45,
   "metadata": {},
   "outputs": [
    {
     "data": {
      "text/plain": [
       "<matplotlib.legend.Legend at 0x1a3620e7a90>"
      ]
     },
     "execution_count": 45,
     "metadata": {},
     "output_type": "execute_result"
    },
    {
     "data": {
      "image/png": "[encoded data removed]",
      "text/plain": [
       "<Figure size 432x288 with 1 Axes>"
      ]
     },
     "metadata": {
      "needs_background": "light"
     },
     "output_type": "display_data"
    }
   ],
   "source": [
    "#Create figure\n",
    "fig, ax = plt.subplots(1, 1)\n",
    "\n",
    "#Define distribution parameters\t\n",
    "mu, sig = distancia.mean(),distancia.std()\n",
    "#Generate discrete random variables\n",
    "x = np.linspace(norm.ppf(0.01, mu, sig), norm.ppf(0.99, mu, sig), 50)\n",
    "#x = np.arange(0,100,10)\n",
    "\n",
    "#Plotting x\n",
    "ax.plot(x, norm.pdf(x, mu, sig), 'r-', lw=5, alpha=0.6, label='norm pdf')\n",
    "\n",
    "#Generate random numbers and plotting\n",
    "x_rv = distancia\n",
    "ax.hist(x_rv,bins=20, density=True, histtype='stepfilled', alpha=0.2)\n",
    "\n",
    "\n",
    "#Define legend attributes and show figure\n",
    "ax.legend(loc='best', frameon=False)"
   ]
  },
  {
   "cell_type": "code",
   "execution_count": null,
   "metadata": {},
   "outputs": [],
   "source": []
  }
 ],
 "metadata": {
  "kernelspec": {
   "display_name": "Python 3",
   "language": "python",
   "name": "python3"
  },
  "language_info": {
   "codemirror_mode": {
    "name": "ipython",
    "version": 3
   },
   "file_extension": ".py",
   "mimetype": "text/x-python",
   "name": "python",
   "nbconvert_exporter": "python",
   "pygments_lexer": "ipython3",
   "version": "3.8.3"
  },
  "toc": {
   "base_numbering": 1,
   "nav_menu": {},
   "number_sections": true,
   "sideBar": true,
   "skip_h1_title": false,
   "title_cell": "Table of Contents",
   "title_sidebar": "Contents",
   "toc_cell": false,
   "toc_position": {},
   "toc_section_display": true,
   "toc_window_display": false
  }
 },
 "nbformat": 4,
 "nbformat_minor": 4
}
