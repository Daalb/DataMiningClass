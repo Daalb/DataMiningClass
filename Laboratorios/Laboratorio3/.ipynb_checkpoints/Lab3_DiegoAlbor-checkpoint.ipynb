{
 "cells": [
  {
   "cell_type": "code",
   "execution_count": 8,
   "metadata": {},
   "outputs": [],
   "source": [
    "#Sección de librerias\n",
    "from matplotlib import pyplot as plt\n",
    "import pandas as pd\n",
    "import matplotlib.pyplot as plt\n",
    "import seaborn as sns\n",
    "import numpy as np\n",
    "from scipy.stats import norm\n"
   ]
  },
  {
   "cell_type": "code",
   "execution_count": 2,
   "metadata": {},
   "outputs": [],
   "source": [
    "#Sección de carga de datasets\n",
    "file1 = 'RunningData.csv'\n",
    "file2= 'Accidentalidad_en_Barranquilla.xls'"
   ]
  },
  {
   "cell_type": "code",
   "execution_count": 3,
   "metadata": {},
   "outputs": [],
   "source": [
    "#Dataframes\n",
    "running = pd.read_csv(file1)\n",
    "accbaq = pd.read_excel(file2)"
   ]
  },
  {
   "cell_type": "code",
   "execution_count": 4,
   "metadata": {},
   "outputs": [],
   "source": [
    "#Sacamos los datos necesarios para el análisis\n",
    "distancia = running['Distance (km)']\n",
    "accdate = accbaq[['AÑO_ACCIDENTE','MES_ACCIDENTE','DIA_ACCIDENTE','CANTIDAD_ACCIDENTES']]"
   ]
  },
  {
   "cell_type": "markdown",
   "metadata": {},
   "source": [
    "# Running Data Analysis"
   ]
  },
  {
   "cell_type": "code",
   "execution_count": 9,
   "metadata": {},
   "outputs": [
    {
     "data": {
      "image/png": "[encoded data removed]",
      "text/plain": [
       "<Figure size 432x288 with 1 Axes>"
      ]
     },
     "metadata": {
      "needs_background": "light"
     },
     "output_type": "display_data"
    }
   ],
   "source": [
    "c = int(np.ceil(1+np.log2(508)))#Usamos la regla de Sturges para una mejor división\n",
    "plt.hist(distancia,bins=c)\n",
    "plt.xlabel(\"Distancia (Km)\")\n",
    "plt.ylabel(\"Frecuencia\")\n",
    "plt.xticks(np.arange(0,50,5))\n",
    "plt.show()"
   ]
  },
  {
   "cell_type": "code",
   "execution_count": 35,
   "metadata": {},
   "outputs": [
    {
     "data": {
      "text/plain": [
       "count    508.000000\n",
       "mean      12.041732\n",
       "std        6.064125\n",
       "min        0.760000\n",
       "25%        9.495000\n",
       "50%       11.460000\n",
       "75%       13.642500\n",
       "max       49.180000\n",
       "Name: Distance (km), dtype: float64"
      ]
     },
     "execution_count": 35,
     "metadata": {},
     "output_type": "execute_result"
    }
   ],
   "source": [
    "distancia.describe()"
   ]
  },
  {
   "attachments": {},
   "cell_type": "markdown",
   "metadata": {},
   "source": [
    "<p>Con un primer vistazo a los datos podemos darnos una idea de las probabilidades para cada una de las pregunta. Podemos observar que la frecuencia de personas que recorren 10km es mayor que las que recorren 15km</p>"
   ]
  },
  {
   "cell_type": "code",
   "execution_count": null,
   "metadata": {},
   "outputs": [],
   "source": [
    "#Import library\n",
    "\n",
    "#Create figure\n",
    "fig, ax = plt.subplots(1, 1)\n",
    "\n",
    "#Define distribution parameters\t\n",
    "mu, sig = 5,1\n",
    "mu1, sig1 = 5,4 \n",
    "mu2, sig2 = 15,1 \n",
    "\n",
    "#Generate discrete random variables\n",
    "x = np.linspace(norm.ppf(0.01, mu, sig), norm.ppf(0.99, mu, sig), 100)\n",
    "x1 = np.linspace(norm.ppf(0.01, mu1, sig1), norm.ppf(0.99, mu1, sig1), 100)\n",
    "x2 = np.linspace(norm.ppf(0.01, mu2, sig2), norm.ppf(0.99, mu2, sig2), 100)\n",
    "\n",
    "#Plotting x\n",
    "ax.plot(x, norm.pdf(x, mu, sig), 'b-', lw=5, alpha=0.6, label='norm pdf')\n",
    "ax.plot(x1, norm.pdf(x1, mu1, sig1), 'r-', lw=5, alpha=0.6, label='norm pdf')\n",
    "ax.plot(x2, norm.pdf(x2, mu2, sig2), 'c-', lw=5, alpha=0.6, label='norm pdf')\n",
    "\n",
    "\n",
    "#Generate random numbers and plotting\n",
    "x_rv = norm.rvs(size=1000, loc=mu, scale=sig)\n",
    "ax.hist(x_rv, density=True, histtype='stepfilled', alpha=0.2)\n",
    "\n",
    "#Define legend attributes and show figure\n",
    "ax.legend(loc='best', frameon=False)"
   ]
  }
 ],
 "metadata": {
  "kernelspec": {
   "display_name": "Python 3",
   "language": "python",
   "name": "python3"
  },
  "language_info": {
   "codemirror_mode": {
    "name": "ipython",
    "version": 3
   },
   "file_extension": ".py",
   "mimetype": "text/x-python",
   "name": "python",
   "nbconvert_exporter": "python",
   "pygments_lexer": "ipython3",
   "version": "3.8.3"
  },
  "toc": {
   "base_numbering": 1,
   "nav_menu": {},
   "number_sections": true,
   "sideBar": true,
   "skip_h1_title": false,
   "title_cell": "Table of Contents",
   "title_sidebar": "Contents",
   "toc_cell": false,
   "toc_position": {},
   "toc_section_display": true,
   "toc_window_display": false
  }
 },
 "nbformat": 4,
 "nbformat_minor": 4
}
