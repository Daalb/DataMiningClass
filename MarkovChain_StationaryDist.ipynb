{
  "nbformat": 4,
  "nbformat_minor": 0,
  "metadata": {
    "kernelspec": {
      "display_name": "Python 3",
      "language": "python",
      "name": "python3"
    },
    "language_info": {
      "codemirror_mode": {
        "name": "ipython",
        "version": 3
      },
      "file_extension": ".py",
      "mimetype": "text/x-python",
      "name": "python",
      "nbconvert_exporter": "python",
      "pygments_lexer": "ipython3",
      "version": "3.8.3"
    },
    "toc": {
      "base_numbering": 1,
      "nav_menu": {},
      "number_sections": true,
      "sideBar": true,
      "skip_h1_title": false,
      "title_cell": "Table of Contents",
      "title_sidebar": "Contents",
      "toc_cell": false,
      "toc_position": {},
      "toc_section_display": true,
      "toc_window_display": false
    },
    "varInspector": {
      "cols": {
        "lenName": 16,
        "lenType": 16,
        "lenVar": 40
      },
      "kernels_config": {
        "python": {
          "delete_cmd_postfix": "",
          "delete_cmd_prefix": "del ",
          "library": "var_list.py",
          "varRefreshCmd": "print(var_dic_list())"
        },
        "r": {
          "delete_cmd_postfix": ") ",
          "delete_cmd_prefix": "rm(",
          "library": "var_list.r",
          "varRefreshCmd": "cat(var_dic_list()) "
        }
      },
      "types_to_exclude": [
        "module",
        "function",
        "builtin_function_or_method",
        "instance",
        "_Feature"
      ],
      "window_display": false
    },
    "colab": {
      "name": "MarkovChain-StationaryDist.ipynb",
      "provenance": [],
      "collapsed_sections": []
    }
  },
  "cells": [
    {
      "cell_type": "code",
      "metadata": {
        "id": "rETtxL-feOL1",
        "colab_type": "code",
        "colab": {}
      },
      "source": [
        "#import all libraries needed\n",
        "import numpy as np\n",
        "import pandas as pd\n",
        "from random import seed\n",
        "from random import random\n",
        "import matplotlib.pyplot as plt\n"
      ],
      "execution_count": null,
      "outputs": []
    },
    {
      "cell_type": "code",
      "metadata": {
        "id": "-SYo17QLeOL6",
        "colab_type": "code",
        "colab": {}
      },
      "source": [
        "#define transition matrix\n",
        "P = np.array([[0,1,0],[0,0.1,0.9],[0.6,0.4,0]])\n",
        "\n",
        "#define step-0\n",
        "state=np.array([[0.5,0.2,0.3]])\n",
        "stateHist=state\n",
        "dfStateHist=pd.DataFrame(state)\n",
        "distr_hist = [[0,0,0]]\n"
      ],
      "execution_count": null,
      "outputs": []
    },
    {
      "cell_type": "code",
      "metadata": {
        "id": "9LH1QPgoeOL9",
        "colab_type": "code",
        "colab": {
          "base_uri": "https://localhost:8080/",
          "height": 299
        },
        "outputId": "b3d587d0-54cc-436d-c6db-3a5dbb226db9"
      },
      "source": [
        "#find stationary distribution\n",
        "for x in range(100):\n",
        "  state=np.dot(state,P)\n",
        "  #print(state)\n",
        "  stateHist=np.append(stateHist,state,axis=0)\n",
        "\n",
        "dfDistrHist = pd.DataFrame(stateHist)\n",
        "print(dfDistrHist.tail(1))\n",
        "dfDistrHist.plot()\n",
        "plt.show()"
      ],
      "execution_count": null,
      "outputs": [
        {
          "output_type": "stream",
          "text": [
            "            0         1         2\n",
            "150  0.221311  0.409836  0.368852\n"
          ],
          "name": "stdout"
        },
        {
          "output_type": "display_data",
          "data": {
            "image/png": "[encoded data removed]",
            "text/plain": [
              "<Figure size 432x288 with 1 Axes>"
            ]
          },
          "metadata": {
            "tags": [],
            "needs_background": "light"
          }
        }
      ]
    },
    {
      "cell_type": "code",
      "metadata": {
        "id": "nfpNBYxVfArz",
        "colab_type": "code",
        "colab": {}
      },
      "source": [
        ""
      ],
      "execution_count": null,
      "outputs": []
    },
    {
      "cell_type": "markdown",
      "metadata": {
        "id": "f1LLtjCol_3q",
        "colab_type": "text"
      },
      "source": [
        "Para el ejercicio de días nublados,soleados y lluviosos\n"
      ]
    },
    {
      "cell_type": "code",
      "metadata": {
        "id": "fpT_-qM_mEwy",
        "colab_type": "code",
        "colab": {}
      },
      "source": [
        "#define transition matrix\n",
        "P = np.array([[0.6,0.3,0.1],[0.3,0.4,0.3],[0.2,0.3,0.5]])\n",
        "\n",
        "#define step-0\n",
        "state=np.array([[1,0,0]])\n",
        "stateHist=state\n",
        "dfStateHist=pd.DataFrame(state)\n",
        "distr_hist = [[0,0,0]]"
      ],
      "execution_count": 21,
      "outputs": []
    },
    {
      "cell_type": "code",
      "metadata": {
        "id": "ujgxFQ0Gmsdi",
        "colab_type": "code",
        "colab": {
          "base_uri": "https://localhost:8080/",
          "height": 299
        },
        "outputId": "a2dd942c-3aa7-494c-91ea-da68214782f0"
      },
      "source": [
        "#find stationary distribution\n",
        "for x in range(50):\n",
        "  state=np.dot(state,P)\n",
        "  #print(state)\n",
        "  stateHist=np.append(stateHist,state,axis=0)\n",
        "\n",
        "dfDistrHist = pd.DataFrame(stateHist)\n",
        "print(dfDistrHist.tail(1))\n",
        "dfDistrHist.plot()\n",
        "plt.show()"
      ],
      "execution_count": 22,
      "outputs": [
        {
          "output_type": "stream",
          "text": [
            "           0         1         2\n",
            "50  0.388889  0.333333  0.277778\n"
          ],
          "name": "stdout"
        },
        {
          "output_type": "display_data",
          "data": {
            "image/png": "[encoded data removed]",
            "text/plain": [
              "<Figure size 432x288 with 1 Axes>"
            ]
          },
          "metadata": {
            "tags": [],
            "needs_background": "light"
          }
        }
      ]
    },
    {
      "cell_type": "code",
      "metadata": {
        "id": "tMXB92Lkmw9M",
        "colab_type": "code",
        "colab": {}
      },
      "source": [
        ""
      ],
      "execution_count": null,
      "outputs": []
    }
  ]
}